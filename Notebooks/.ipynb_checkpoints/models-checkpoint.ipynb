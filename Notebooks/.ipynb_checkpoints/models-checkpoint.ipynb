{
 "cells": [
  {
   "cell_type": "markdown",
   "id": "07c93e33",
   "metadata": {},
   "source": [
    "# Feature Engineering"
   ]
  },
  {
   "cell_type": "code",
   "execution_count": 1,
   "id": "0acf9546",
   "metadata": {},
   "outputs": [],
   "source": [
    "# Feature engineering:\n",
    "    # Months as customer --> years as customer\n",
    "    # Time difference between claim date and policy start date\n",
    "    # Break policy csl into 2 features: injury claim per individual and injury claim per accident split by '/'\n",
    "    # Maybe vehicle body type? If I'm predicting accident severity or claim amount..."
   ]
  },
  {
   "cell_type": "code",
   "execution_count": 2,
   "id": "eabf9a35",
   "metadata": {},
   "outputs": [],
   "source": [
    "import numpy as np\n",
    "import pandas as pd\n",
    "\n",
    "# Visualisations\n",
    "import matplotlib.pyplot as plt\n",
    "import seaborn as sns\n",
    "sns.set_palette('mako_r')\n",
    "palette = sns.color_palette()\n",
    "\n",
    "# Preprocessing\n",
    "from sklearn.preprocessing import LabelEncoder, MinMaxScaler, StandardScaler\n",
    "from sklearn.model_selection import train_test_split\n",
    "\n",
    "# Feature selection\n",
    "from feature_engine.selection import SmartCorrelatedSelection\n",
    "from sklearn.feature_selection import VarianceThreshold, SequentialFeatureSelector\n",
    "\n",
    "# Resampling\n",
    "from sklearn.utils import resample\n",
    "from imblearn.over_sampling import SMOTE\n",
    "\n",
    "# Dimensionality Reduction\n",
    "from sklearn.decomposition import PCA\n",
    "from sklearn.manifold import MDS, TSNE\n",
    "\n",
    "# Model building\n",
    "from sklearn.linear_model import LogisticRegression\n",
    "from sklearn.tree import DecisionTreeClassifier\n",
    "from sklearn.svm import SVC, LinearSVC\n",
    "from sklearn.ensemble import RandomForestClassifier\n",
    "from xgboost import XGBClassifier\n",
    "from sklearn.neighbors import KNeighborsClassifier\n",
    "from sklearn.neural_network import MLPClassifier\n",
    "from sklearn.model_selection import GridSearchCV\n",
    "\n",
    "# Model evaulation\n",
    "from sklearn.metrics import accuracy_score, classification_report, confusion_matrix, ConfusionMatrixDisplay"
   ]
  },
  {
   "cell_type": "code",
   "execution_count": 3,
   "id": "80aa9eb9",
   "metadata": {},
   "outputs": [],
   "source": [
    "import warnings\n",
    "warnings.filterwarnings('ignore')"
   ]
  },
  {
   "cell_type": "markdown",
   "id": "37887d06",
   "metadata": {},
   "source": [
    "## Loading the Data"
   ]
  },
  {
   "cell_type": "code",
   "execution_count": 4,
   "id": "5ce07717",
   "metadata": {},
   "outputs": [],
   "source": [
    "df = pd.read_excel('../Data/Insurance Claims Data - Cleaned.xlsx')"
   ]
  },
  {
   "cell_type": "code",
   "execution_count": 5,
   "id": "1ff1ffd3",
   "metadata": {},
   "outputs": [
    {
     "data": {
      "text/html": [
       "<div>\n",
       "<style scoped>\n",
       "    .dataframe tbody tr th:only-of-type {\n",
       "        vertical-align: middle;\n",
       "    }\n",
       "\n",
       "    .dataframe tbody tr th {\n",
       "        vertical-align: top;\n",
       "    }\n",
       "\n",
       "    .dataframe thead th {\n",
       "        text-align: right;\n",
       "    }\n",
       "</style>\n",
       "<table border=\"1\" class=\"dataframe\">\n",
       "  <thead>\n",
       "    <tr style=\"text-align: right;\">\n",
       "      <th></th>\n",
       "      <th>months_as_customer</th>\n",
       "      <th>age</th>\n",
       "      <th>policy_number</th>\n",
       "      <th>policy_bind_date</th>\n",
       "      <th>policy_state</th>\n",
       "      <th>policy_csl</th>\n",
       "      <th>policy_deductable</th>\n",
       "      <th>policy_annual_premium</th>\n",
       "      <th>umbrella_limit</th>\n",
       "      <th>insured_zip</th>\n",
       "      <th>...</th>\n",
       "      <th>witnesses</th>\n",
       "      <th>police_report_available</th>\n",
       "      <th>total_claim_amount</th>\n",
       "      <th>injury_claim</th>\n",
       "      <th>property_claim</th>\n",
       "      <th>vehicle_claim</th>\n",
       "      <th>auto_make</th>\n",
       "      <th>auto_model</th>\n",
       "      <th>auto_year</th>\n",
       "      <th>fraud_reported</th>\n",
       "    </tr>\n",
       "  </thead>\n",
       "  <tbody>\n",
       "    <tr>\n",
       "      <th>0</th>\n",
       "      <td>328</td>\n",
       "      <td>48</td>\n",
       "      <td>521585</td>\n",
       "      <td>2014-10-17</td>\n",
       "      <td>OH</td>\n",
       "      <td>250/500</td>\n",
       "      <td>1000</td>\n",
       "      <td>1406.91</td>\n",
       "      <td>0</td>\n",
       "      <td>466132</td>\n",
       "      <td>...</td>\n",
       "      <td>2</td>\n",
       "      <td>YES</td>\n",
       "      <td>71610</td>\n",
       "      <td>6510</td>\n",
       "      <td>13020</td>\n",
       "      <td>52080</td>\n",
       "      <td>Saab</td>\n",
       "      <td>92x</td>\n",
       "      <td>2004</td>\n",
       "      <td>Y</td>\n",
       "    </tr>\n",
       "    <tr>\n",
       "      <th>1</th>\n",
       "      <td>228</td>\n",
       "      <td>42</td>\n",
       "      <td>342868</td>\n",
       "      <td>2006-06-27</td>\n",
       "      <td>IN</td>\n",
       "      <td>250/500</td>\n",
       "      <td>2000</td>\n",
       "      <td>1197.22</td>\n",
       "      <td>5000000</td>\n",
       "      <td>468176</td>\n",
       "      <td>...</td>\n",
       "      <td>0</td>\n",
       "      <td>?</td>\n",
       "      <td>5070</td>\n",
       "      <td>780</td>\n",
       "      <td>780</td>\n",
       "      <td>3510</td>\n",
       "      <td>Mercedes</td>\n",
       "      <td>E400</td>\n",
       "      <td>2007</td>\n",
       "      <td>Y</td>\n",
       "    </tr>\n",
       "    <tr>\n",
       "      <th>2</th>\n",
       "      <td>134</td>\n",
       "      <td>29</td>\n",
       "      <td>687698</td>\n",
       "      <td>2000-09-06</td>\n",
       "      <td>OH</td>\n",
       "      <td>100/300</td>\n",
       "      <td>2000</td>\n",
       "      <td>1413.14</td>\n",
       "      <td>5000000</td>\n",
       "      <td>430632</td>\n",
       "      <td>...</td>\n",
       "      <td>3</td>\n",
       "      <td>NO</td>\n",
       "      <td>34650</td>\n",
       "      <td>7700</td>\n",
       "      <td>3850</td>\n",
       "      <td>23100</td>\n",
       "      <td>Dodge</td>\n",
       "      <td>RAM</td>\n",
       "      <td>2007</td>\n",
       "      <td>N</td>\n",
       "    </tr>\n",
       "    <tr>\n",
       "      <th>3</th>\n",
       "      <td>256</td>\n",
       "      <td>41</td>\n",
       "      <td>227811</td>\n",
       "      <td>1990-05-25</td>\n",
       "      <td>IL</td>\n",
       "      <td>250/500</td>\n",
       "      <td>2000</td>\n",
       "      <td>1415.74</td>\n",
       "      <td>6000000</td>\n",
       "      <td>608117</td>\n",
       "      <td>...</td>\n",
       "      <td>2</td>\n",
       "      <td>NO</td>\n",
       "      <td>63400</td>\n",
       "      <td>6340</td>\n",
       "      <td>6340</td>\n",
       "      <td>50720</td>\n",
       "      <td>Chevrolet</td>\n",
       "      <td>Tahoe</td>\n",
       "      <td>2014</td>\n",
       "      <td>Y</td>\n",
       "    </tr>\n",
       "    <tr>\n",
       "      <th>4</th>\n",
       "      <td>228</td>\n",
       "      <td>44</td>\n",
       "      <td>367455</td>\n",
       "      <td>2014-06-06</td>\n",
       "      <td>IL</td>\n",
       "      <td>500/1000</td>\n",
       "      <td>1000</td>\n",
       "      <td>1583.91</td>\n",
       "      <td>6000000</td>\n",
       "      <td>610706</td>\n",
       "      <td>...</td>\n",
       "      <td>1</td>\n",
       "      <td>NO</td>\n",
       "      <td>6500</td>\n",
       "      <td>1300</td>\n",
       "      <td>650</td>\n",
       "      <td>4550</td>\n",
       "      <td>Accura</td>\n",
       "      <td>RSX</td>\n",
       "      <td>2009</td>\n",
       "      <td>N</td>\n",
       "    </tr>\n",
       "  </tbody>\n",
       "</table>\n",
       "<p>5 rows × 39 columns</p>\n",
       "</div>"
      ],
      "text/plain": [
       "   months_as_customer  age  policy_number policy_bind_date policy_state  \\\n",
       "0                 328   48         521585       2014-10-17           OH   \n",
       "1                 228   42         342868       2006-06-27           IN   \n",
       "2                 134   29         687698       2000-09-06           OH   \n",
       "3                 256   41         227811       1990-05-25           IL   \n",
       "4                 228   44         367455       2014-06-06           IL   \n",
       "\n",
       "  policy_csl  policy_deductable  policy_annual_premium  umbrella_limit  \\\n",
       "0    250/500               1000                1406.91               0   \n",
       "1    250/500               2000                1197.22         5000000   \n",
       "2    100/300               2000                1413.14         5000000   \n",
       "3    250/500               2000                1415.74         6000000   \n",
       "4   500/1000               1000                1583.91         6000000   \n",
       "\n",
       "   insured_zip  ... witnesses police_report_available total_claim_amount  \\\n",
       "0       466132  ...         2                     YES              71610   \n",
       "1       468176  ...         0                       ?               5070   \n",
       "2       430632  ...         3                      NO              34650   \n",
       "3       608117  ...         2                      NO              63400   \n",
       "4       610706  ...         1                      NO               6500   \n",
       "\n",
       "  injury_claim property_claim  vehicle_claim  auto_make auto_model auto_year  \\\n",
       "0         6510          13020          52080       Saab        92x      2004   \n",
       "1          780            780           3510   Mercedes       E400      2007   \n",
       "2         7700           3850          23100      Dodge        RAM      2007   \n",
       "3         6340           6340          50720  Chevrolet      Tahoe      2014   \n",
       "4         1300            650           4550     Accura        RSX      2009   \n",
       "\n",
       "  fraud_reported  \n",
       "0              Y  \n",
       "1              Y  \n",
       "2              N  \n",
       "3              Y  \n",
       "4              N  \n",
       "\n",
       "[5 rows x 39 columns]"
      ]
     },
     "execution_count": 5,
     "metadata": {},
     "output_type": "execute_result"
    }
   ],
   "source": [
    "df.head()"
   ]
  },
  {
   "cell_type": "markdown",
   "id": "914b4dc2",
   "metadata": {},
   "source": [
    "## Data Preprocessing"
   ]
  },
  {
   "cell_type": "code",
   "execution_count": 6,
   "id": "8de54ebf",
   "metadata": {},
   "outputs": [],
   "source": [
    "# Keeping age, sex, witnesses and fraud\n",
    "# Improves XGBoost a lot"
   ]
  },
  {
   "cell_type": "code",
   "execution_count": 7,
   "id": "9cdd845d",
   "metadata": {},
   "outputs": [],
   "source": [
    "# Drop irrelevant features\n",
    "df = df.drop(['months_as_customer','policy_bind_date','policy_state','policy_csl',\n",
    "              'policy_deductable','policy_annual_premium','umbrella_limit', 'insured_zip',\n",
    "              'insured_education_level', 'insured_occupation', 'insured_hobbies',\n",
    "              'insured_relationship','capital-gains', 'capital-loss'],axis=1)"
   ]
  },
  {
   "cell_type": "code",
   "execution_count": 8,
   "id": "87ce898d",
   "metadata": {},
   "outputs": [],
   "source": [
    "# Remove policy_number feature\n",
    "df = df.drop('policy_number', axis=1)"
   ]
  },
  {
   "cell_type": "code",
   "execution_count": 9,
   "id": "775c23b1",
   "metadata": {},
   "outputs": [],
   "source": [
    "# Normalize case of text columns to avoid inconsistencies\n",
    "def lowercase_strings(x):\n",
    "    if isinstance(x, str):\n",
    "        return x.lower()\n",
    "    else:\n",
    "        return x\n",
    "\n",
    "df = df.applymap(lowercase_strings)"
   ]
  },
  {
   "cell_type": "code",
   "execution_count": 10,
   "id": "ddbde359",
   "metadata": {},
   "outputs": [],
   "source": [
    "# Replace NaN values with the string 'none'\n",
    "df['authorities_contacted'] = df['authorities_contacted'].fillna('none')"
   ]
  },
  {
   "cell_type": "code",
   "execution_count": 11,
   "id": "1480b63a",
   "metadata": {},
   "outputs": [],
   "source": [
    "# Replace '?' datapoints with 'unknown'\n",
    "df = df.replace('?', 'unknown')"
   ]
  },
  {
   "cell_type": "code",
   "execution_count": 12,
   "id": "2a5483a1",
   "metadata": {},
   "outputs": [],
   "source": [
    "# Change the incident severity to a binary label\n",
    "df['incident_severity'] = df['incident_severity'].apply(lambda x: 'major' if x in ['major damage','total loss'] else 'minor')"
   ]
  },
  {
   "cell_type": "code",
   "execution_count": 13,
   "id": "a9535eb9",
   "metadata": {},
   "outputs": [
    {
     "data": {
      "text/html": [
       "<div>\n",
       "<style scoped>\n",
       "    .dataframe tbody tr th:only-of-type {\n",
       "        vertical-align: middle;\n",
       "    }\n",
       "\n",
       "    .dataframe tbody tr th {\n",
       "        vertical-align: top;\n",
       "    }\n",
       "\n",
       "    .dataframe thead th {\n",
       "        text-align: right;\n",
       "    }\n",
       "</style>\n",
       "<table border=\"1\" class=\"dataframe\">\n",
       "  <thead>\n",
       "    <tr style=\"text-align: right;\">\n",
       "      <th></th>\n",
       "      <th>age</th>\n",
       "      <th>insured_sex</th>\n",
       "      <th>incident_date</th>\n",
       "      <th>incident_type</th>\n",
       "      <th>collision_type</th>\n",
       "      <th>incident_severity</th>\n",
       "      <th>authorities_contacted</th>\n",
       "      <th>incident_state</th>\n",
       "      <th>incident_city</th>\n",
       "      <th>incident_location</th>\n",
       "      <th>...</th>\n",
       "      <th>witnesses</th>\n",
       "      <th>police_report_available</th>\n",
       "      <th>total_claim_amount</th>\n",
       "      <th>injury_claim</th>\n",
       "      <th>property_claim</th>\n",
       "      <th>vehicle_claim</th>\n",
       "      <th>auto_make</th>\n",
       "      <th>auto_model</th>\n",
       "      <th>auto_year</th>\n",
       "      <th>fraud_reported</th>\n",
       "    </tr>\n",
       "  </thead>\n",
       "  <tbody>\n",
       "    <tr>\n",
       "      <th>0</th>\n",
       "      <td>48</td>\n",
       "      <td>male</td>\n",
       "      <td>2015-01-25</td>\n",
       "      <td>single vehicle collision</td>\n",
       "      <td>side collision</td>\n",
       "      <td>major</td>\n",
       "      <td>police</td>\n",
       "      <td>sc</td>\n",
       "      <td>columbus</td>\n",
       "      <td>9935 4th drive</td>\n",
       "      <td>...</td>\n",
       "      <td>2</td>\n",
       "      <td>yes</td>\n",
       "      <td>71610</td>\n",
       "      <td>6510</td>\n",
       "      <td>13020</td>\n",
       "      <td>52080</td>\n",
       "      <td>saab</td>\n",
       "      <td>92x</td>\n",
       "      <td>2004</td>\n",
       "      <td>y</td>\n",
       "    </tr>\n",
       "    <tr>\n",
       "      <th>1</th>\n",
       "      <td>42</td>\n",
       "      <td>male</td>\n",
       "      <td>2015-01-21</td>\n",
       "      <td>vehicle theft</td>\n",
       "      <td>unknown</td>\n",
       "      <td>minor</td>\n",
       "      <td>police</td>\n",
       "      <td>va</td>\n",
       "      <td>riverwood</td>\n",
       "      <td>6608 mlk hwy</td>\n",
       "      <td>...</td>\n",
       "      <td>0</td>\n",
       "      <td>unknown</td>\n",
       "      <td>5070</td>\n",
       "      <td>780</td>\n",
       "      <td>780</td>\n",
       "      <td>3510</td>\n",
       "      <td>mercedes</td>\n",
       "      <td>e400</td>\n",
       "      <td>2007</td>\n",
       "      <td>y</td>\n",
       "    </tr>\n",
       "    <tr>\n",
       "      <th>2</th>\n",
       "      <td>29</td>\n",
       "      <td>female</td>\n",
       "      <td>2015-02-22</td>\n",
       "      <td>multi-vehicle collision</td>\n",
       "      <td>rear collision</td>\n",
       "      <td>minor</td>\n",
       "      <td>police</td>\n",
       "      <td>ny</td>\n",
       "      <td>columbus</td>\n",
       "      <td>7121 francis lane</td>\n",
       "      <td>...</td>\n",
       "      <td>3</td>\n",
       "      <td>no</td>\n",
       "      <td>34650</td>\n",
       "      <td>7700</td>\n",
       "      <td>3850</td>\n",
       "      <td>23100</td>\n",
       "      <td>dodge</td>\n",
       "      <td>ram</td>\n",
       "      <td>2007</td>\n",
       "      <td>n</td>\n",
       "    </tr>\n",
       "    <tr>\n",
       "      <th>3</th>\n",
       "      <td>41</td>\n",
       "      <td>female</td>\n",
       "      <td>2015-01-10</td>\n",
       "      <td>single vehicle collision</td>\n",
       "      <td>front collision</td>\n",
       "      <td>major</td>\n",
       "      <td>police</td>\n",
       "      <td>oh</td>\n",
       "      <td>arlington</td>\n",
       "      <td>6956 maple drive</td>\n",
       "      <td>...</td>\n",
       "      <td>2</td>\n",
       "      <td>no</td>\n",
       "      <td>63400</td>\n",
       "      <td>6340</td>\n",
       "      <td>6340</td>\n",
       "      <td>50720</td>\n",
       "      <td>chevrolet</td>\n",
       "      <td>tahoe</td>\n",
       "      <td>2014</td>\n",
       "      <td>y</td>\n",
       "    </tr>\n",
       "    <tr>\n",
       "      <th>4</th>\n",
       "      <td>44</td>\n",
       "      <td>male</td>\n",
       "      <td>2015-02-17</td>\n",
       "      <td>vehicle theft</td>\n",
       "      <td>unknown</td>\n",
       "      <td>minor</td>\n",
       "      <td>none</td>\n",
       "      <td>ny</td>\n",
       "      <td>arlington</td>\n",
       "      <td>3041 3rd ave</td>\n",
       "      <td>...</td>\n",
       "      <td>1</td>\n",
       "      <td>no</td>\n",
       "      <td>6500</td>\n",
       "      <td>1300</td>\n",
       "      <td>650</td>\n",
       "      <td>4550</td>\n",
       "      <td>accura</td>\n",
       "      <td>rsx</td>\n",
       "      <td>2009</td>\n",
       "      <td>n</td>\n",
       "    </tr>\n",
       "  </tbody>\n",
       "</table>\n",
       "<p>5 rows × 24 columns</p>\n",
       "</div>"
      ],
      "text/plain": [
       "   age insured_sex incident_date             incident_type   collision_type  \\\n",
       "0   48        male    2015-01-25  single vehicle collision   side collision   \n",
       "1   42        male    2015-01-21             vehicle theft          unknown   \n",
       "2   29      female    2015-02-22   multi-vehicle collision   rear collision   \n",
       "3   41      female    2015-01-10  single vehicle collision  front collision   \n",
       "4   44        male    2015-02-17             vehicle theft          unknown   \n",
       "\n",
       "  incident_severity authorities_contacted incident_state incident_city  \\\n",
       "0             major                police             sc      columbus   \n",
       "1             minor                police             va     riverwood   \n",
       "2             minor                police             ny      columbus   \n",
       "3             major                police             oh     arlington   \n",
       "4             minor                  none             ny     arlington   \n",
       "\n",
       "   incident_location  ...  witnesses  police_report_available  \\\n",
       "0     9935 4th drive  ...          2                      yes   \n",
       "1       6608 mlk hwy  ...          0                  unknown   \n",
       "2  7121 francis lane  ...          3                       no   \n",
       "3   6956 maple drive  ...          2                       no   \n",
       "4       3041 3rd ave  ...          1                       no   \n",
       "\n",
       "  total_claim_amount  injury_claim  property_claim vehicle_claim  auto_make  \\\n",
       "0              71610          6510           13020         52080       saab   \n",
       "1               5070           780             780          3510   mercedes   \n",
       "2              34650          7700            3850         23100      dodge   \n",
       "3              63400          6340            6340         50720  chevrolet   \n",
       "4               6500          1300             650          4550     accura   \n",
       "\n",
       "   auto_model  auto_year  fraud_reported  \n",
       "0         92x       2004               y  \n",
       "1        e400       2007               y  \n",
       "2         ram       2007               n  \n",
       "3       tahoe       2014               y  \n",
       "4         rsx       2009               n  \n",
       "\n",
       "[5 rows x 24 columns]"
      ]
     },
     "execution_count": 13,
     "metadata": {},
     "output_type": "execute_result"
    }
   ],
   "source": [
    "df.head()"
   ]
  },
  {
   "cell_type": "markdown",
   "id": "dc6f782b",
   "metadata": {},
   "source": [
    "## Feature Engineering"
   ]
  },
  {
   "cell_type": "markdown",
   "id": "16534785",
   "metadata": {},
   "source": [
    "#### Fraudulent claims"
   ]
  },
  {
   "cell_type": "code",
   "execution_count": 14,
   "id": "1b7736e6",
   "metadata": {},
   "outputs": [],
   "source": [
    "# Try dropping fraudulent claims\n",
    "# This will lose 247 observations, which is 25% of the dataset\n",
    "# Slightly worsens most models, no change to XGB\n",
    "# Did not improve the models ability to distinguish between major and minor\n",
    "# Will NOT be doing this"
   ]
  },
  {
   "cell_type": "code",
   "execution_count": 15,
   "id": "2d34eaf6",
   "metadata": {},
   "outputs": [],
   "source": [
    "# Try replacing fraudulent major claims as minor\n",
    "# This ends up making minor the majority class and too much artificial data is generated in SMOTE"
   ]
  },
  {
   "cell_type": "code",
   "execution_count": 16,
   "id": "777a9d29",
   "metadata": {},
   "outputs": [],
   "source": [
    "# Try dropping only the major fraudulent claims\n",
    "# Not sure aboutdoing this...\n",
    "# Worsens tree models\n",
    "# Improves logreg and linsvc but not enough, they are not better than the tree models without doing this"
   ]
  },
  {
   "cell_type": "code",
   "execution_count": 17,
   "id": "86620170",
   "metadata": {},
   "outputs": [],
   "source": [
    "# I think rather just discuss this during model critique that it is probably influencing\n",
    "# Would want a bigger dataset that does not include fraudulent claims, or where the fraud has been corrected before being included"
   ]
  },
  {
   "cell_type": "code",
   "execution_count": 18,
   "id": "3d2bb1af",
   "metadata": {},
   "outputs": [],
   "source": [
    "# df = df.drop('fraud_reported', axis=1)"
   ]
  },
  {
   "cell_type": "markdown",
   "id": "0c2e684b",
   "metadata": {},
   "source": [
    "#### Datetime"
   ]
  },
  {
   "cell_type": "code",
   "execution_count": 19,
   "id": "c88ac08d",
   "metadata": {},
   "outputs": [],
   "source": [
    "def extract_time_features(df):\n",
    "    \n",
    "    '''\n",
    "    Extracts year, month, week, day and weekday features from the 'incident_date' column.\n",
    "    \n",
    "    Parameters:\n",
    "    -----------\n",
    "    df: DataFrame\n",
    "        A pandas DataFrame containing a column named 'incident_date'\n",
    "    \n",
    "    Returns:\n",
    "    --------\n",
    "    df: DataFrame\n",
    "        A pandas DataFrame with new columns for 'incident_year','incident_month', 'incident_week',\n",
    "        'incident_day' and 'incident_weekday' and the 'incident_date' column dropped.\n",
    "    '''\n",
    "    \n",
    "    # Extract the relevant time features\n",
    "    df['incident_year'] = df['incident_date'].dt.year\n",
    "    df['incident_month'] = df['incident_date'].dt.month\n",
    "    df['incident_week'] = df['incident_date'].dt.isocalendar().week\n",
    "    df['incident_day'] = df['incident_date'].dt.day\n",
    "    df['incident_weekday'] = df['incident_date'].dt.weekday\n",
    "    \n",
    "    # Drop the 'incident_date' feature\n",
    "    df = df.drop('incident_date', axis=1)\n",
    "    \n",
    "    return df\n",
    "\n",
    "df = extract_time_features(df)"
   ]
  },
  {
   "cell_type": "markdown",
   "id": "c44392d6",
   "metadata": {},
   "source": [
    "#### Week period"
   ]
  },
  {
   "cell_type": "code",
   "execution_count": 20,
   "id": "1ca19afc",
   "metadata": {},
   "outputs": [],
   "source": [
    "# Improves LM, LinSVC"
   ]
  },
  {
   "cell_type": "code",
   "execution_count": 21,
   "id": "3baf17a6",
   "metadata": {},
   "outputs": [],
   "source": [
    "def week_period_indicator(df):\n",
    "    \n",
    "    '''\n",
    "    Docstring\n",
    "    '''\n",
    "    \n",
    "    if df['incident_weekday'] in (6,0,1):\n",
    "        return 'start_week'\n",
    "    elif df['incident_weekday'] in (2,3):\n",
    "        return 'mid_week'\n",
    "    else:\n",
    "        return 'weekend'\n",
    "\n",
    "df['week_period'] = df.apply(week_period_indicator, axis=1)"
   ]
  },
  {
   "cell_type": "markdown",
   "id": "125449ff",
   "metadata": {},
   "source": [
    "#### Time of day"
   ]
  },
  {
   "cell_type": "code",
   "execution_count": 22,
   "id": "67f47b76",
   "metadata": {},
   "outputs": [],
   "source": [
    "# Minimal change\n",
    "# ? Worth it\n",
    "# Will decide at the end..."
   ]
  },
  {
   "cell_type": "code",
   "execution_count": 23,
   "id": "6640690d",
   "metadata": {
    "scrolled": true
   },
   "outputs": [],
   "source": [
    "def time_of_day_indicator(df):\n",
    "    \n",
    "    '''\n",
    "    Docstring\n",
    "    '''\n",
    "    \n",
    "    if df['incident_hour_of_the_day'] in (3,4,5,6,8,9):\n",
    "        return 'morning'\n",
    "    elif df['incident_hour_of_the_day'] in (10,11,12,13,14,15,16,17,18,19):\n",
    "        return 'afternoon'\n",
    "    else:\n",
    "        return 'night'\n",
    "\n",
    "#df['time_of_day'] = df.apply(time_of_day_indicator, axis=1)"
   ]
  },
  {
   "cell_type": "markdown",
   "id": "9e7048a7",
   "metadata": {},
   "source": [
    "#### Incident location"
   ]
  },
  {
   "cell_type": "markdown",
   "id": "87f3dbea",
   "metadata": {},
   "source": [
    "As seen during EDA, each incident occurred at a unique location. As such, this feature cannot improve the predictive power of the model. Rather than dropping the entire feature, however, we will convert this feature into the road type on which the incident occurred."
   ]
  },
  {
   "cell_type": "code",
   "execution_count": 24,
   "id": "d67d4349",
   "metadata": {},
   "outputs": [],
   "source": [
    "# Significantly worsens model but leaving it in causes too many features"
   ]
  },
  {
   "cell_type": "code",
   "execution_count": 25,
   "id": "1768ae28",
   "metadata": {},
   "outputs": [],
   "source": [
    "df['incident_location'] = df['incident_location'].apply(lambda x: x.split()[-1])"
   ]
  },
  {
   "cell_type": "markdown",
   "id": "ef2de05a",
   "metadata": {},
   "source": [
    "#### Incident city"
   ]
  },
  {
   "cell_type": "code",
   "execution_count": 26,
   "id": "0b612066",
   "metadata": {},
   "outputs": [],
   "source": [
    "# Not all the same cities are in the same states\n",
    "# Try combine state and city"
   ]
  },
  {
   "cell_type": "code",
   "execution_count": 27,
   "id": "e57c66a5",
   "metadata": {},
   "outputs": [],
   "source": [
    "#df['state_city'] = df['incident_state'] + ' ' + df['incident_city']\n",
    "#df = df.drop('incident_city', axis=1)"
   ]
  },
  {
   "cell_type": "markdown",
   "id": "baa8cffd",
   "metadata": {},
   "source": [
    "#### Vehicle body shape"
   ]
  },
  {
   "cell_type": "code",
   "execution_count": 28,
   "id": "88127f64",
   "metadata": {},
   "outputs": [],
   "source": [
    "## Does improve RF a bit\n",
    "# Worsens XGB and NN"
   ]
  },
  {
   "cell_type": "code",
   "execution_count": 29,
   "id": "788f5e0d",
   "metadata": {},
   "outputs": [],
   "source": [
    "def auto_shape_indicator(df):\n",
    "    \n",
    "    '''\n",
    "    Assigns an 'auto_shape' value to each row in the DataFrame based on the 'auto_model' value.\n",
    "    \n",
    "    Parameters:\n",
    "    -----------\n",
    "    df: DataFrame\n",
    "        A pandas DataFrame containing a column named 'auto_model'.\n",
    "    \n",
    "    Returns:\n",
    "    --------\n",
    "    Series: A pandas Series containing the assigned 'auto_shape' value.\n",
    "    '''\n",
    "    \n",
    "    if df['auto_model'] in ['ram','f150','silverado']:\n",
    "        return 'pickup'\n",
    "    elif df['auto_model'] in ['92x','95','93']:\n",
    "        return 'wagon'\n",
    "    elif df['auto_model'] in ['tahoe','pathfinder','highlander','mdx','forrestor','escape','wrangler',\n",
    "                              'x5','crv','x6','malibu','fusion','ml350','grand cherokee']:\n",
    "        return 'suv'\n",
    "    else:\n",
    "        return 'sedan'\n",
    "    \n",
    "#df['auto_shape'] = df.apply(auto_shape_indicator, axis=1)\n",
    "#df = df.drop('auto_model',axis=1)"
   ]
  },
  {
   "cell_type": "markdown",
   "id": "808a37ae",
   "metadata": {},
   "source": [
    "#### Vehicle age"
   ]
  },
  {
   "cell_type": "code",
   "execution_count": 30,
   "id": "c9c126b2",
   "metadata": {},
   "outputs": [],
   "source": [
    "## No significant improvements"
   ]
  },
  {
   "cell_type": "code",
   "execution_count": 31,
   "id": "4ac42b13",
   "metadata": {},
   "outputs": [],
   "source": [
    "#df['auto_age'] = df['incident_year'] - df['auto_year']"
   ]
  },
  {
   "cell_type": "markdown",
   "id": "314c8512",
   "metadata": {},
   "source": [
    "#### Variable encoding"
   ]
  },
  {
   "cell_type": "code",
   "execution_count": 32,
   "id": "4923eff4",
   "metadata": {},
   "outputs": [],
   "source": [
    "# Label encoding\n",
    "label_encoder = LabelEncoder()\n",
    "df['incident_severity'] = label_encoder.fit_transform(df['incident_severity'])"
   ]
  },
  {
   "cell_type": "markdown",
   "id": "979d6c71",
   "metadata": {},
   "source": [
    "LabelEncoder assigns labels to classes in alphabetical order. After transforming the label, the classes are as follows:\n",
    "- `0`: major incident\n",
    "- `1`: minor incident"
   ]
  },
  {
   "cell_type": "code",
   "execution_count": 33,
   "id": "4c195c99",
   "metadata": {},
   "outputs": [],
   "source": [
    "# Dummy variable encoding\n",
    "df_dummies = pd.get_dummies(df, drop_first=True, dtype=int)"
   ]
  },
  {
   "cell_type": "code",
   "execution_count": 34,
   "id": "75ac3065",
   "metadata": {
    "scrolled": false
   },
   "outputs": [
    {
     "data": {
      "text/html": [
       "<div>\n",
       "<style scoped>\n",
       "    .dataframe tbody tr th:only-of-type {\n",
       "        vertical-align: middle;\n",
       "    }\n",
       "\n",
       "    .dataframe tbody tr th {\n",
       "        vertical-align: top;\n",
       "    }\n",
       "\n",
       "    .dataframe thead th {\n",
       "        text-align: right;\n",
       "    }\n",
       "</style>\n",
       "<table border=\"1\" class=\"dataframe\">\n",
       "  <thead>\n",
       "    <tr style=\"text-align: right;\">\n",
       "      <th></th>\n",
       "      <th>age</th>\n",
       "      <th>incident_severity</th>\n",
       "      <th>incident_hour_of_the_day</th>\n",
       "      <th>number_of_vehicles_involved</th>\n",
       "      <th>bodily_injuries</th>\n",
       "      <th>witnesses</th>\n",
       "      <th>total_claim_amount</th>\n",
       "      <th>injury_claim</th>\n",
       "      <th>property_claim</th>\n",
       "      <th>vehicle_claim</th>\n",
       "      <th>...</th>\n",
       "      <th>auto_model_silverado</th>\n",
       "      <th>auto_model_tahoe</th>\n",
       "      <th>auto_model_tl</th>\n",
       "      <th>auto_model_ultima</th>\n",
       "      <th>auto_model_wrangler</th>\n",
       "      <th>auto_model_x5</th>\n",
       "      <th>auto_model_x6</th>\n",
       "      <th>fraud_reported_y</th>\n",
       "      <th>week_period_start_week</th>\n",
       "      <th>week_period_weekend</th>\n",
       "    </tr>\n",
       "  </thead>\n",
       "  <tbody>\n",
       "    <tr>\n",
       "      <th>0</th>\n",
       "      <td>48</td>\n",
       "      <td>0</td>\n",
       "      <td>5</td>\n",
       "      <td>1</td>\n",
       "      <td>1</td>\n",
       "      <td>2</td>\n",
       "      <td>71610</td>\n",
       "      <td>6510</td>\n",
       "      <td>13020</td>\n",
       "      <td>52080</td>\n",
       "      <td>...</td>\n",
       "      <td>0</td>\n",
       "      <td>0</td>\n",
       "      <td>0</td>\n",
       "      <td>0</td>\n",
       "      <td>0</td>\n",
       "      <td>0</td>\n",
       "      <td>0</td>\n",
       "      <td>1</td>\n",
       "      <td>1</td>\n",
       "      <td>0</td>\n",
       "    </tr>\n",
       "    <tr>\n",
       "      <th>1</th>\n",
       "      <td>42</td>\n",
       "      <td>1</td>\n",
       "      <td>8</td>\n",
       "      <td>1</td>\n",
       "      <td>0</td>\n",
       "      <td>0</td>\n",
       "      <td>5070</td>\n",
       "      <td>780</td>\n",
       "      <td>780</td>\n",
       "      <td>3510</td>\n",
       "      <td>...</td>\n",
       "      <td>0</td>\n",
       "      <td>0</td>\n",
       "      <td>0</td>\n",
       "      <td>0</td>\n",
       "      <td>0</td>\n",
       "      <td>0</td>\n",
       "      <td>0</td>\n",
       "      <td>1</td>\n",
       "      <td>0</td>\n",
       "      <td>0</td>\n",
       "    </tr>\n",
       "    <tr>\n",
       "      <th>2</th>\n",
       "      <td>29</td>\n",
       "      <td>1</td>\n",
       "      <td>7</td>\n",
       "      <td>3</td>\n",
       "      <td>2</td>\n",
       "      <td>3</td>\n",
       "      <td>34650</td>\n",
       "      <td>7700</td>\n",
       "      <td>3850</td>\n",
       "      <td>23100</td>\n",
       "      <td>...</td>\n",
       "      <td>0</td>\n",
       "      <td>0</td>\n",
       "      <td>0</td>\n",
       "      <td>0</td>\n",
       "      <td>0</td>\n",
       "      <td>0</td>\n",
       "      <td>0</td>\n",
       "      <td>0</td>\n",
       "      <td>1</td>\n",
       "      <td>0</td>\n",
       "    </tr>\n",
       "    <tr>\n",
       "      <th>3</th>\n",
       "      <td>41</td>\n",
       "      <td>0</td>\n",
       "      <td>5</td>\n",
       "      <td>1</td>\n",
       "      <td>1</td>\n",
       "      <td>2</td>\n",
       "      <td>63400</td>\n",
       "      <td>6340</td>\n",
       "      <td>6340</td>\n",
       "      <td>50720</td>\n",
       "      <td>...</td>\n",
       "      <td>0</td>\n",
       "      <td>1</td>\n",
       "      <td>0</td>\n",
       "      <td>0</td>\n",
       "      <td>0</td>\n",
       "      <td>0</td>\n",
       "      <td>0</td>\n",
       "      <td>1</td>\n",
       "      <td>0</td>\n",
       "      <td>1</td>\n",
       "    </tr>\n",
       "    <tr>\n",
       "      <th>4</th>\n",
       "      <td>44</td>\n",
       "      <td>1</td>\n",
       "      <td>20</td>\n",
       "      <td>1</td>\n",
       "      <td>0</td>\n",
       "      <td>1</td>\n",
       "      <td>6500</td>\n",
       "      <td>1300</td>\n",
       "      <td>650</td>\n",
       "      <td>4550</td>\n",
       "      <td>...</td>\n",
       "      <td>0</td>\n",
       "      <td>0</td>\n",
       "      <td>0</td>\n",
       "      <td>0</td>\n",
       "      <td>0</td>\n",
       "      <td>0</td>\n",
       "      <td>0</td>\n",
       "      <td>0</td>\n",
       "      <td>1</td>\n",
       "      <td>0</td>\n",
       "    </tr>\n",
       "  </tbody>\n",
       "</table>\n",
       "<p>5 rows × 104 columns</p>\n",
       "</div>"
      ],
      "text/plain": [
       "   age  incident_severity  incident_hour_of_the_day  \\\n",
       "0   48                  0                         5   \n",
       "1   42                  1                         8   \n",
       "2   29                  1                         7   \n",
       "3   41                  0                         5   \n",
       "4   44                  1                        20   \n",
       "\n",
       "   number_of_vehicles_involved  bodily_injuries  witnesses  \\\n",
       "0                            1                1          2   \n",
       "1                            1                0          0   \n",
       "2                            3                2          3   \n",
       "3                            1                1          2   \n",
       "4                            1                0          1   \n",
       "\n",
       "   total_claim_amount  injury_claim  property_claim  vehicle_claim  ...  \\\n",
       "0               71610          6510           13020          52080  ...   \n",
       "1                5070           780             780           3510  ...   \n",
       "2               34650          7700            3850          23100  ...   \n",
       "3               63400          6340            6340          50720  ...   \n",
       "4                6500          1300             650           4550  ...   \n",
       "\n",
       "   auto_model_silverado  auto_model_tahoe  auto_model_tl  auto_model_ultima  \\\n",
       "0                     0                 0              0                  0   \n",
       "1                     0                 0              0                  0   \n",
       "2                     0                 0              0                  0   \n",
       "3                     0                 1              0                  0   \n",
       "4                     0                 0              0                  0   \n",
       "\n",
       "   auto_model_wrangler  auto_model_x5  auto_model_x6  fraud_reported_y  \\\n",
       "0                    0              0              0                 1   \n",
       "1                    0              0              0                 1   \n",
       "2                    0              0              0                 0   \n",
       "3                    0              0              0                 1   \n",
       "4                    0              0              0                 0   \n",
       "\n",
       "   week_period_start_week  week_period_weekend  \n",
       "0                       1                    0  \n",
       "1                       0                    0  \n",
       "2                       1                    0  \n",
       "3                       0                    1  \n",
       "4                       1                    0  \n",
       "\n",
       "[5 rows x 104 columns]"
      ]
     },
     "execution_count": 34,
     "metadata": {},
     "output_type": "execute_result"
    }
   ],
   "source": [
    "df_dummies.head()"
   ]
  },
  {
   "cell_type": "markdown",
   "id": "6acf722e",
   "metadata": {},
   "source": [
    "## Balancing Classes"
   ]
  },
  {
   "cell_type": "code",
   "execution_count": 35,
   "id": "07544253",
   "metadata": {},
   "outputs": [],
   "source": [
    "X = df_dummies.drop('incident_severity', axis=1)\n",
    "y = df_dummies['incident_severity']"
   ]
  },
  {
   "cell_type": "code",
   "execution_count": 36,
   "id": "5de9d056",
   "metadata": {},
   "outputs": [],
   "source": [
    "# Standardise the data\n",
    "scaler = StandardScaler()\n",
    "\n",
    "X_scaled = scaler.fit_transform(X)\n",
    "X_scaled = pd.DataFrame(X_scaled, columns=X.columns)"
   ]
  },
  {
   "cell_type": "code",
   "execution_count": 37,
   "id": "292624a0",
   "metadata": {},
   "outputs": [],
   "source": [
    "# Balance the training data using SMOTE\n",
    "smote = SMOTE(random_state=42)\n",
    "\n",
    "X_resampled, y_resampled = smote.fit_resample(X_scaled, y)"
   ]
  },
  {
   "cell_type": "markdown",
   "id": "e4a8265b",
   "metadata": {},
   "source": [
    "## Feature Selection"
   ]
  },
  {
   "cell_type": "markdown",
   "id": "173da9fd",
   "metadata": {},
   "source": [
    "#### Variance"
   ]
  },
  {
   "cell_type": "code",
   "execution_count": null,
   "id": "5820a2fe",
   "metadata": {},
   "outputs": [],
   "source": [
    "## Slightly worsens RF\n",
    "# Only removes 4 out of 100 features, not significant"
   ]
  },
  {
   "cell_type": "code",
   "execution_count": null,
   "id": "fe5bcf1f",
   "metadata": {},
   "outputs": [],
   "source": [
    "# Normalise the data\n",
    "mm_scaler = MinMaxScaler()\n",
    "mm_scaler.fit(X)\n",
    "\n",
    "X_norm = mm_scaler.transform(X)\n",
    "X_norm = pd.DataFrame(X_norm, columns=X.columns)"
   ]
  },
  {
   "cell_type": "code",
   "execution_count": null,
   "id": "a1b49afd",
   "metadata": {},
   "outputs": [],
   "source": [
    "# Fit the variance threshold selector\n",
    "var = VarianceThreshold(threshold=0.01)\n",
    "var.fit(X_norm)"
   ]
  },
  {
   "cell_type": "code",
   "execution_count": null,
   "id": "fa02d176",
   "metadata": {},
   "outputs": [],
   "source": [
    "low_var_feat = X_norm.columns[~var.get_support()]\n",
    "low_var_feat"
   ]
  },
  {
   "cell_type": "markdown",
   "id": "1bd870f7",
   "metadata": {},
   "source": [
    "There are 3 features with a variance below 1% which will be dropped."
   ]
  },
  {
   "cell_type": "code",
   "execution_count": null,
   "id": "c2bdf28c",
   "metadata": {},
   "outputs": [],
   "source": [
    "# Drop the low variance features\n",
    "X = X.drop(low_var_feat, axis=1)"
   ]
  },
  {
   "cell_type": "markdown",
   "id": "f93cb986",
   "metadata": {},
   "source": [
    "#### Correlated features"
   ]
  },
  {
   "cell_type": "code",
   "execution_count": null,
   "id": "a4900cdc",
   "metadata": {},
   "outputs": [],
   "source": [
    "# Worsens RF\n",
    "# Only removes 5 out of 100 features, not significant"
   ]
  },
  {
   "cell_type": "code",
   "execution_count": null,
   "id": "ee3f2c63",
   "metadata": {},
   "outputs": [],
   "source": [
    "corr = SmartCorrelatedSelection(selection_method='model_performance',\n",
    "                                estimator=LogisticRegression(),\n",
    "                                scoring='roc_auc')\n",
    "\n",
    "corr.fit(X_scaled, y)"
   ]
  },
  {
   "cell_type": "code",
   "execution_count": null,
   "id": "7f23dd01",
   "metadata": {
    "scrolled": true
   },
   "outputs": [],
   "source": [
    "corr.correlated_feature_sets_"
   ]
  },
  {
   "cell_type": "code",
   "execution_count": null,
   "id": "e7fbf7ce",
   "metadata": {},
   "outputs": [],
   "source": [
    "corr.features_to_drop_"
   ]
  },
  {
   "cell_type": "markdown",
   "id": "9074383b",
   "metadata": {},
   "source": [
    "Based on this we will be keeping:\n",
    "- Vehicle claim\n",
    "- Incident month"
   ]
  },
  {
   "cell_type": "code",
   "execution_count": null,
   "id": "3ce40e06",
   "metadata": {},
   "outputs": [],
   "source": [
    "X_scaled = X_scaled.drop(corr.features_to_drop_, axis=1)"
   ]
  },
  {
   "cell_type": "code",
   "execution_count": null,
   "id": "a7734e82",
   "metadata": {},
   "outputs": [],
   "source": [
    "X_scaled.shape"
   ]
  },
  {
   "cell_type": "code",
   "execution_count": null,
   "id": "7f8a5468",
   "metadata": {},
   "outputs": [],
   "source": [
    "## Not really worth doing filter methods because they only remove 9 features and very slightly improves RF, worsen the others"
   ]
  },
  {
   "cell_type": "markdown",
   "id": "1c1b0273",
   "metadata": {},
   "source": [
    "#### Mutual Information"
   ]
  },
  {
   "cell_type": "code",
   "execution_count": null,
   "id": "20c56653",
   "metadata": {},
   "outputs": [],
   "source": []
  },
  {
   "cell_type": "markdown",
   "id": "04ffb3f5",
   "metadata": {},
   "source": [
    "## Splitting the Data"
   ]
  },
  {
   "cell_type": "code",
   "execution_count": 38,
   "id": "36c17daa",
   "metadata": {},
   "outputs": [],
   "source": [
    "X_train, X_test, y_train, y_test = train_test_split(X_resampled, y_resampled, test_size=0.2, random_state=42)"
   ]
  },
  {
   "cell_type": "markdown",
   "id": "e075f0ac",
   "metadata": {},
   "source": [
    "## Model Building"
   ]
  },
  {
   "cell_type": "markdown",
   "id": "8f048959",
   "metadata": {},
   "source": [
    "We will first evaluate the performance of a number of base machine learning models using the default hyperparameters and compare the results. The initial performance will be based on the model accuracy to identify the models most suited to the dataset. The following models will be assessed:\n",
    "- **Logistic regression**\n",
    "- **Decision tree classifier**\n",
    "- **Support vector machine**\n",
    "- **Linear support vector machine**\n",
    "- **K-Nearest neighbours**\n",
    "- **Random forest classifier**\n",
    "- **Extreme gradient boosted decision tree**\n",
    "- **Neural network**"
   ]
  },
  {
   "cell_type": "code",
   "execution_count": 39,
   "id": "f0de70bd",
   "metadata": {},
   "outputs": [],
   "source": [
    "# Create a dictionary of model names and the associated classifier\n",
    "models = {'lm':LogisticRegression(),\n",
    "          'dt':DecisionTreeClassifier(random_state=42),\n",
    "          'svc':SVC(),\n",
    "          'linsvc':LinearSVC(random_state=42),\n",
    "          'knn':KNeighborsClassifier(),\n",
    "          'rf':RandomForestClassifier(random_state=42),\n",
    "          'xgb':XGBClassifier(random_state=42),\n",
    "          'nn':MLPClassifier(random_state=42)}\n",
    "\n",
    "# Create an empty list to store the accuracy scores\n",
    "accuracies = []\n",
    "\n",
    "# Iterate through each model in the models dictionary\n",
    "for model, classifier in models.items():\n",
    "    \n",
    "    # Fit the model to the training data\n",
    "    classifier.fit(X_train, y_train)\n",
    "    \n",
    "    # Make predictions from the validation set\n",
    "    y_pred = classifier.predict(X_test)\n",
    "    \n",
    "    # Calculate the accuracy score\n",
    "    accuracy = accuracy_score(y_test, y_pred)\n",
    "    \n",
    "    # Append the model name and accuracy score to the accuracies list\n",
    "    accuracies.append([model, accuracy])"
   ]
  },
  {
   "cell_type": "code",
   "execution_count": 40,
   "id": "17fb36f3",
   "metadata": {
    "scrolled": false
   },
   "outputs": [
    {
     "data": {
      "image/png": "[encoded data removed]",
      "text/plain": [
       "<Figure size 800x400 with 1 Axes>"
      ]
     },
     "metadata": {},
     "output_type": "display_data"
    }
   ],
   "source": [
    "# Plot and compare the model accuracies\n",
    "model_names = [item[0] for item in accuracies]\n",
    "accuracy_scores = [item[1] for item in accuracies]\n",
    "\n",
    "plt.figure(figsize=(8,4))\n",
    "plt.barh(model_names, accuracy_scores, color=palette[1])\n",
    "plt.title('Comparison of Model Accuracies \\n')\n",
    "plt.ylabel('Model \\n')\n",
    "plt.xlabel('\\n Accuracy Score')\n",
    "plt.gca().invert_yaxis()\n",
    "plt.show()"
   ]
  },
  {
   "cell_type": "markdown",
   "id": "a209e76f",
   "metadata": {},
   "source": [
    "Top performing models based on accuracy alone are:\n",
    "- Random Forest\n",
    "- XGBoost\n",
    "- Neural Network\n",
    "\n",
    "We'll take a more detailed look at the performance of these three models by looking at the classification reports and confusion matrices, as well as running a grid search for the optimal hyperparameters."
   ]
  },
  {
   "cell_type": "code",
   "execution_count": 41,
   "id": "994afe90",
   "metadata": {},
   "outputs": [],
   "source": [
    "def evaluate_model(actual, predicted):\n",
    "    \n",
    "    '''\n",
    "    Docstring\n",
    "    '''\n",
    "    \n",
    "    print('Classification Report \\n')\n",
    "    print(classification_report(actual, predicted))\n",
    "    print('\\n')\n",
    "    print('Confusion Matrix')\n",
    "    \n",
    "    cm = confusion_matrix(actual, predicted)\n",
    "    disp = ConfusionMatrixDisplay(cm, display_labels=['major','minor'])\n",
    "    disp.plot(cmap='Blues')"
   ]
  },
  {
   "cell_type": "markdown",
   "id": "6ed8e1b7",
   "metadata": {},
   "source": [
    "### Random Forest"
   ]
  },
  {
   "cell_type": "markdown",
   "id": "415d1f76",
   "metadata": {},
   "source": [
    "#### Base model"
   ]
  },
  {
   "cell_type": "code",
   "execution_count": 42,
   "id": "dc0dec00",
   "metadata": {
    "scrolled": false
   },
   "outputs": [
    {
     "name": "stdout",
     "output_type": "stream",
     "text": [
      "Classification Report \n",
      "\n",
      "              precision    recall  f1-score   support\n",
      "\n",
      "           0       0.68      0.98      0.80       106\n",
      "           1       0.97      0.57      0.72       117\n",
      "\n",
      "    accuracy                           0.77       223\n",
      "   macro avg       0.82      0.78      0.76       223\n",
      "weighted avg       0.83      0.77      0.76       223\n",
      "\n",
      "\n",
      "\n",
      "Confusion Matrix\n"
     ]
    },
    {
     "data": {
      "image/png": "[encoded data removed]",
      "text/plain": [
       "<Figure size 640x480 with 2 Axes>"
      ]
     },
     "metadata": {},
     "output_type": "display_data"
    }
   ],
   "source": [
    "rf = RandomForestClassifier(random_state=42)\n",
    "\n",
    "rf.fit(X_train, y_train)\n",
    "\n",
    "y_pred_rf = rf.predict(X_test)\n",
    "\n",
    "evaluate_model(y_test, y_pred_rf)"
   ]
  },
  {
   "cell_type": "markdown",
   "id": "690a2613",
   "metadata": {},
   "source": [
    "#### Feature selection"
   ]
  },
  {
   "cell_type": "code",
   "execution_count": 43,
   "id": "bcfd37a8",
   "metadata": {
    "scrolled": false
   },
   "outputs": [
    {
     "data": {
      "text/html": [
       "<div>\n",
       "<style scoped>\n",
       "    .dataframe tbody tr th:only-of-type {\n",
       "        vertical-align: middle;\n",
       "    }\n",
       "\n",
       "    .dataframe tbody tr th {\n",
       "        vertical-align: top;\n",
       "    }\n",
       "\n",
       "    .dataframe thead th {\n",
       "        text-align: right;\n",
       "    }\n",
       "</style>\n",
       "<table border=\"1\" class=\"dataframe\">\n",
       "  <thead>\n",
       "    <tr style=\"text-align: right;\">\n",
       "      <th></th>\n",
       "      <th>feature_importance</th>\n",
       "    </tr>\n",
       "  </thead>\n",
       "  <tbody>\n",
       "    <tr>\n",
       "      <th>total_claim_amount</th>\n",
       "      <td>0.071001</td>\n",
       "    </tr>\n",
       "    <tr>\n",
       "      <th>injury_claim</th>\n",
       "      <td>0.067514</td>\n",
       "    </tr>\n",
       "    <tr>\n",
       "      <th>property_claim</th>\n",
       "      <td>0.065493</td>\n",
       "    </tr>\n",
       "    <tr>\n",
       "      <th>vehicle_claim</th>\n",
       "      <td>0.063282</td>\n",
       "    </tr>\n",
       "    <tr>\n",
       "      <th>collision_type_unknown</th>\n",
       "      <td>0.058265</td>\n",
       "    </tr>\n",
       "    <tr>\n",
       "      <th>...</th>\n",
       "      <td>...</td>\n",
       "    </tr>\n",
       "    <tr>\n",
       "      <th>auto_model_ml350</th>\n",
       "      <td>0.000680</td>\n",
       "    </tr>\n",
       "    <tr>\n",
       "      <th>auto_model_c300</th>\n",
       "      <td>0.000668</td>\n",
       "    </tr>\n",
       "    <tr>\n",
       "      <th>authorities_contacted_unknown</th>\n",
       "      <td>0.000048</td>\n",
       "    </tr>\n",
       "    <tr>\n",
       "      <th>incident_state_unknown</th>\n",
       "      <td>0.000039</td>\n",
       "    </tr>\n",
       "    <tr>\n",
       "      <th>incident_year</th>\n",
       "      <td>0.000000</td>\n",
       "    </tr>\n",
       "  </tbody>\n",
       "</table>\n",
       "<p>103 rows × 1 columns</p>\n",
       "</div>"
      ],
      "text/plain": [
       "                               feature_importance\n",
       "total_claim_amount                       0.071001\n",
       "injury_claim                             0.067514\n",
       "property_claim                           0.065493\n",
       "vehicle_claim                            0.063282\n",
       "collision_type_unknown                   0.058265\n",
       "...                                           ...\n",
       "auto_model_ml350                         0.000680\n",
       "auto_model_c300                          0.000668\n",
       "authorities_contacted_unknown            0.000048\n",
       "incident_state_unknown                   0.000039\n",
       "incident_year                            0.000000\n",
       "\n",
       "[103 rows x 1 columns]"
      ]
     },
     "execution_count": 43,
     "metadata": {},
     "output_type": "execute_result"
    }
   ],
   "source": [
    "# Feature importance\n",
    "rf_features = pd.DataFrame(data=rf.feature_importances_, columns=['feature_importance'],\n",
    "              index=X_train.columns).sort_values(by='feature_importance', ascending=False)\n",
    "\n",
    "rf_features"
   ]
  },
  {
   "cell_type": "code",
   "execution_count": 44,
   "id": "c333ae26",
   "metadata": {},
   "outputs": [
    {
     "data": {
      "text/plain": [
       "Index(['total_claim_amount', 'injury_claim', 'property_claim', 'vehicle_claim',\n",
       "       'collision_type_unknown', 'fraud_reported_y', 'age',\n",
       "       'incident_hour_of_the_day', 'incident_day', 'auto_year',\n",
       "       'incident_week', 'incident_weekday', 'authorities_contacted_none',\n",
       "       'witnesses', 'incident_type_vehicle theft',\n",
       "       'number_of_vehicles_involved', 'bodily_injuries',\n",
       "       'incident_type_parked car', 'property_damage_unknown',\n",
       "       'incident_state_ny', 'collision_type_rear collision',\n",
       "       'insured_sex_male', 'collision_type_side collision'],\n",
       "      dtype='object')"
      ]
     },
     "execution_count": 44,
     "metadata": {},
     "output_type": "execute_result"
    }
   ],
   "source": [
    "rf_top_features = rf_features[rf_features['feature_importance'] >= 0.01].index\n",
    "rf_top_features"
   ]
  },
  {
   "cell_type": "code",
   "execution_count": 45,
   "id": "35371727",
   "metadata": {},
   "outputs": [],
   "source": [
    "X_train_rf = X_train[rf_top_features]\n",
    "X_test_rf = X_test[rf_top_features]"
   ]
  },
  {
   "cell_type": "code",
   "execution_count": 75,
   "id": "ecd908fb",
   "metadata": {},
   "outputs": [
    {
     "data": {
      "text/html": [
       "<style>#sk-container-id-4 {color: black;background-color: white;}#sk-container-id-4 pre{padding: 0;}#sk-container-id-4 div.sk-toggleable {background-color: white;}#sk-container-id-4 label.sk-toggleable__label {cursor: pointer;display: block;width: 100%;margin-bottom: 0;padding: 0.3em;box-sizing: border-box;text-align: center;}#sk-container-id-4 label.sk-toggleable__label-arrow:before {content: \"▸\";float: left;margin-right: 0.25em;color: #696969;}#sk-container-id-4 label.sk-toggleable__label-arrow:hover:before {color: black;}#sk-container-id-4 div.sk-estimator:hover label.sk-toggleable__label-arrow:before {color: black;}#sk-container-id-4 div.sk-toggleable__content {max-height: 0;max-width: 0;overflow: hidden;text-align: left;background-color: #f0f8ff;}#sk-container-id-4 div.sk-toggleable__content pre {margin: 0.2em;color: black;border-radius: 0.25em;background-color: #f0f8ff;}#sk-container-id-4 input.sk-toggleable__control:checked~div.sk-toggleable__content {max-height: 200px;max-width: 100%;overflow: auto;}#sk-container-id-4 input.sk-toggleable__control:checked~label.sk-toggleable__label-arrow:before {content: \"▾\";}#sk-container-id-4 div.sk-estimator input.sk-toggleable__control:checked~label.sk-toggleable__label {background-color: #d4ebff;}#sk-container-id-4 div.sk-label input.sk-toggleable__control:checked~label.sk-toggleable__label {background-color: #d4ebff;}#sk-container-id-4 input.sk-hidden--visually {border: 0;clip: rect(1px 1px 1px 1px);clip: rect(1px, 1px, 1px, 1px);height: 1px;margin: -1px;overflow: hidden;padding: 0;position: absolute;width: 1px;}#sk-container-id-4 div.sk-estimator {font-family: monospace;background-color: #f0f8ff;border: 1px dotted black;border-radius: 0.25em;box-sizing: border-box;margin-bottom: 0.5em;}#sk-container-id-4 div.sk-estimator:hover {background-color: #d4ebff;}#sk-container-id-4 div.sk-parallel-item::after {content: \"\";width: 100%;border-bottom: 1px solid gray;flex-grow: 1;}#sk-container-id-4 div.sk-label:hover label.sk-toggleable__label {background-color: #d4ebff;}#sk-container-id-4 div.sk-serial::before {content: \"\";position: absolute;border-left: 1px solid gray;box-sizing: border-box;top: 0;bottom: 0;left: 50%;z-index: 0;}#sk-container-id-4 div.sk-serial {display: flex;flex-direction: column;align-items: center;background-color: white;padding-right: 0.2em;padding-left: 0.2em;position: relative;}#sk-container-id-4 div.sk-item {position: relative;z-index: 1;}#sk-container-id-4 div.sk-parallel {display: flex;align-items: stretch;justify-content: center;background-color: white;position: relative;}#sk-container-id-4 div.sk-item::before, #sk-container-id-4 div.sk-parallel-item::before {content: \"\";position: absolute;border-left: 1px solid gray;box-sizing: border-box;top: 0;bottom: 0;left: 50%;z-index: -1;}#sk-container-id-4 div.sk-parallel-item {display: flex;flex-direction: column;z-index: 1;position: relative;background-color: white;}#sk-container-id-4 div.sk-parallel-item:first-child::after {align-self: flex-end;width: 50%;}#sk-container-id-4 div.sk-parallel-item:last-child::after {align-self: flex-start;width: 50%;}#sk-container-id-4 div.sk-parallel-item:only-child::after {width: 0;}#sk-container-id-4 div.sk-dashed-wrapped {border: 1px dashed gray;margin: 0 0.4em 0.5em 0.4em;box-sizing: border-box;padding-bottom: 0.4em;background-color: white;}#sk-container-id-4 div.sk-label label {font-family: monospace;font-weight: bold;display: inline-block;line-height: 1.2em;}#sk-container-id-4 div.sk-label-container {text-align: center;}#sk-container-id-4 div.sk-container {/* jupyter's `normalize.less` sets `[hidden] { display: none; }` but bootstrap.min.css set `[hidden] { display: none !important; }` so we also need the `!important` here to be able to override the default hidden behavior on the sphinx rendered scikit-learn.org. See: https://github.com/scikit-learn/scikit-learn/issues/21755 */display: inline-block !important;position: relative;}#sk-container-id-4 div.sk-text-repr-fallback {display: none;}</style><div id=\"sk-container-id-4\" class=\"sk-top-container\"><div class=\"sk-text-repr-fallback\"><pre>SequentialFeatureSelector(direction=&#x27;backward&#x27;,\n",
       "                          estimator=RandomForestClassifier(),\n",
       "                          n_features_to_select=&#x27;auto&#x27;, scoring=&#x27;accuracy&#x27;,\n",
       "                          tol=0.0001)</pre><b>In a Jupyter environment, please rerun this cell to show the HTML representation or trust the notebook. <br />On GitHub, the HTML representation is unable to render, please try loading this page with nbviewer.org.</b></div><div class=\"sk-container\" hidden><div class=\"sk-item sk-dashed-wrapped\"><div class=\"sk-label-container\"><div class=\"sk-label sk-toggleable\"><input class=\"sk-toggleable__control sk-hidden--visually\" id=\"sk-estimator-id-10\" type=\"checkbox\" ><label for=\"sk-estimator-id-10\" class=\"sk-toggleable__label sk-toggleable__label-arrow\">SequentialFeatureSelector</label><div class=\"sk-toggleable__content\"><pre>SequentialFeatureSelector(direction=&#x27;backward&#x27;,\n",
       "                          estimator=RandomForestClassifier(),\n",
       "                          n_features_to_select=&#x27;auto&#x27;, scoring=&#x27;accuracy&#x27;,\n",
       "                          tol=0.0001)</pre></div></div></div><div class=\"sk-parallel\"><div class=\"sk-parallel-item\"><div class=\"sk-item\"><div class=\"sk-label-container\"><div class=\"sk-label sk-toggleable\"><input class=\"sk-toggleable__control sk-hidden--visually\" id=\"sk-estimator-id-11\" type=\"checkbox\" ><label for=\"sk-estimator-id-11\" class=\"sk-toggleable__label sk-toggleable__label-arrow\">estimator: RandomForestClassifier</label><div class=\"sk-toggleable__content\"><pre>RandomForestClassifier()</pre></div></div></div><div class=\"sk-serial\"><div class=\"sk-item\"><div class=\"sk-estimator sk-toggleable\"><input class=\"sk-toggleable__control sk-hidden--visually\" id=\"sk-estimator-id-12\" type=\"checkbox\" ><label for=\"sk-estimator-id-12\" class=\"sk-toggleable__label sk-toggleable__label-arrow\">RandomForestClassifier</label><div class=\"sk-toggleable__content\"><pre>RandomForestClassifier()</pre></div></div></div></div></div></div></div></div></div></div>"
      ],
      "text/plain": [
       "SequentialFeatureSelector(direction='backward',\n",
       "                          estimator=RandomForestClassifier(),\n",
       "                          n_features_to_select='auto', scoring='accuracy',\n",
       "                          tol=0.0001)"
      ]
     },
     "execution_count": 75,
     "metadata": {},
     "output_type": "execute_result"
    }
   ],
   "source": [
    "# Perform sequential feature selection \n",
    "rf_sfs = SequentialFeatureSelector(estimator=RandomForestClassifier(),\n",
    "                                   n_features_to_select='auto',\n",
    "                                   tol=0.0001,\n",
    "                                   direction='backward',\n",
    "                                   scoring='accuracy',\n",
    "                                   cv=5)\n",
    "\n",
    "rf_sfs.fit(X_train_rf, y_train)"
   ]
  },
  {
   "cell_type": "code",
   "execution_count": 76,
   "id": "cfc9679e",
   "metadata": {},
   "outputs": [
    {
     "data": {
      "text/plain": [
       "array(['total_claim_amount', 'injury_claim', 'property_claim',\n",
       "       'vehicle_claim', 'fraud_reported_y', 'age',\n",
       "       'incident_hour_of_the_day', 'incident_day', 'auto_year',\n",
       "       'incident_week', 'incident_weekday', 'authorities_contacted_none',\n",
       "       'incident_type_vehicle theft', 'number_of_vehicles_involved',\n",
       "       'bodily_injuries', 'incident_type_parked car',\n",
       "       'property_damage_unknown', 'incident_state_ny',\n",
       "       'collision_type_rear collision', 'insured_sex_male',\n",
       "       'collision_type_side collision'], dtype=object)"
      ]
     },
     "execution_count": 76,
     "metadata": {},
     "output_type": "execute_result"
    }
   ],
   "source": [
    "# Identify the siggnificant features\n",
    "rf_sfs.get_feature_names_out()"
   ]
  },
  {
   "cell_type": "code",
   "execution_count": 77,
   "id": "1ec597f0",
   "metadata": {},
   "outputs": [],
   "source": [
    "# Select the relevant features for the training and testing sets\n",
    "X_train_rf = X_train[rf_sfs.get_feature_names_out()]\n",
    "X_test_rf = X_test[rf_sfs.get_feature_names_out()]"
   ]
  },
  {
   "cell_type": "code",
   "execution_count": null,
   "id": "191febc4",
   "metadata": {},
   "outputs": [],
   "source": [
    "# Sequential feature selection did not help here\n",
    "# But feature importance really did"
   ]
  },
  {
   "cell_type": "code",
   "execution_count": 46,
   "id": "43ef37e7",
   "metadata": {},
   "outputs": [
    {
     "name": "stdout",
     "output_type": "stream",
     "text": [
      "Classification Report \n",
      "\n",
      "              precision    recall  f1-score   support\n",
      "\n",
      "           0       0.70      0.92      0.79       106\n",
      "           1       0.90      0.63      0.74       117\n",
      "\n",
      "    accuracy                           0.77       223\n",
      "   macro avg       0.80      0.78      0.77       223\n",
      "weighted avg       0.80      0.77      0.77       223\n",
      "\n",
      "\n",
      "\n",
      "Confusion Matrix\n"
     ]
    },
    {
     "data": {
      "image/png": "[encoded data removed]",
      "text/plain": [
       "<Figure size 640x480 with 2 Axes>"
      ]
     },
     "metadata": {},
     "output_type": "display_data"
    }
   ],
   "source": [
    "# Refit the model to the newly selected features\n",
    "rf.fit(X_train_rf, y_train)\n",
    "\n",
    "y_pred_rf = rf.predict(X_test_rf)\n",
    "\n",
    "evaluate_model(y_test, y_pred_rf)"
   ]
  },
  {
   "cell_type": "markdown",
   "id": "8138b5c6",
   "metadata": {},
   "source": [
    "#### Hyperparameter tuning"
   ]
  },
  {
   "cell_type": "code",
   "execution_count": 45,
   "id": "b300fdde",
   "metadata": {},
   "outputs": [
    {
     "data": {
      "text/html": [
       "<style>#sk-container-id-2 {color: black;background-color: white;}#sk-container-id-2 pre{padding: 0;}#sk-container-id-2 div.sk-toggleable {background-color: white;}#sk-container-id-2 label.sk-toggleable__label {cursor: pointer;display: block;width: 100%;margin-bottom: 0;padding: 0.3em;box-sizing: border-box;text-align: center;}#sk-container-id-2 label.sk-toggleable__label-arrow:before {content: \"▸\";float: left;margin-right: 0.25em;color: #696969;}#sk-container-id-2 label.sk-toggleable__label-arrow:hover:before {color: black;}#sk-container-id-2 div.sk-estimator:hover label.sk-toggleable__label-arrow:before {color: black;}#sk-container-id-2 div.sk-toggleable__content {max-height: 0;max-width: 0;overflow: hidden;text-align: left;background-color: #f0f8ff;}#sk-container-id-2 div.sk-toggleable__content pre {margin: 0.2em;color: black;border-radius: 0.25em;background-color: #f0f8ff;}#sk-container-id-2 input.sk-toggleable__control:checked~div.sk-toggleable__content {max-height: 200px;max-width: 100%;overflow: auto;}#sk-container-id-2 input.sk-toggleable__control:checked~label.sk-toggleable__label-arrow:before {content: \"▾\";}#sk-container-id-2 div.sk-estimator input.sk-toggleable__control:checked~label.sk-toggleable__label {background-color: #d4ebff;}#sk-container-id-2 div.sk-label input.sk-toggleable__control:checked~label.sk-toggleable__label {background-color: #d4ebff;}#sk-container-id-2 input.sk-hidden--visually {border: 0;clip: rect(1px 1px 1px 1px);clip: rect(1px, 1px, 1px, 1px);height: 1px;margin: -1px;overflow: hidden;padding: 0;position: absolute;width: 1px;}#sk-container-id-2 div.sk-estimator {font-family: monospace;background-color: #f0f8ff;border: 1px dotted black;border-radius: 0.25em;box-sizing: border-box;margin-bottom: 0.5em;}#sk-container-id-2 div.sk-estimator:hover {background-color: #d4ebff;}#sk-container-id-2 div.sk-parallel-item::after {content: \"\";width: 100%;border-bottom: 1px solid gray;flex-grow: 1;}#sk-container-id-2 div.sk-label:hover label.sk-toggleable__label {background-color: #d4ebff;}#sk-container-id-2 div.sk-serial::before {content: \"\";position: absolute;border-left: 1px solid gray;box-sizing: border-box;top: 0;bottom: 0;left: 50%;z-index: 0;}#sk-container-id-2 div.sk-serial {display: flex;flex-direction: column;align-items: center;background-color: white;padding-right: 0.2em;padding-left: 0.2em;position: relative;}#sk-container-id-2 div.sk-item {position: relative;z-index: 1;}#sk-container-id-2 div.sk-parallel {display: flex;align-items: stretch;justify-content: center;background-color: white;position: relative;}#sk-container-id-2 div.sk-item::before, #sk-container-id-2 div.sk-parallel-item::before {content: \"\";position: absolute;border-left: 1px solid gray;box-sizing: border-box;top: 0;bottom: 0;left: 50%;z-index: -1;}#sk-container-id-2 div.sk-parallel-item {display: flex;flex-direction: column;z-index: 1;position: relative;background-color: white;}#sk-container-id-2 div.sk-parallel-item:first-child::after {align-self: flex-end;width: 50%;}#sk-container-id-2 div.sk-parallel-item:last-child::after {align-self: flex-start;width: 50%;}#sk-container-id-2 div.sk-parallel-item:only-child::after {width: 0;}#sk-container-id-2 div.sk-dashed-wrapped {border: 1px dashed gray;margin: 0 0.4em 0.5em 0.4em;box-sizing: border-box;padding-bottom: 0.4em;background-color: white;}#sk-container-id-2 div.sk-label label {font-family: monospace;font-weight: bold;display: inline-block;line-height: 1.2em;}#sk-container-id-2 div.sk-label-container {text-align: center;}#sk-container-id-2 div.sk-container {/* jupyter's `normalize.less` sets `[hidden] { display: none; }` but bootstrap.min.css set `[hidden] { display: none !important; }` so we also need the `!important` here to be able to override the default hidden behavior on the sphinx rendered scikit-learn.org. See: https://github.com/scikit-learn/scikit-learn/issues/21755 */display: inline-block !important;position: relative;}#sk-container-id-2 div.sk-text-repr-fallback {display: none;}</style><div id=\"sk-container-id-2\" class=\"sk-top-container\"><div class=\"sk-text-repr-fallback\"><pre>GridSearchCV(cv=5, estimator=RandomForestClassifier(random_state=42),\n",
       "             param_grid={&#x27;max_depth&#x27;: [8, 9, 10], &#x27;min_samples_leaf&#x27;: [1, 2, 3],\n",
       "                         &#x27;n_estimators&#x27;: [100, 150, 200]},\n",
       "             scoring=&#x27;accuracy&#x27;)</pre><b>In a Jupyter environment, please rerun this cell to show the HTML representation or trust the notebook. <br />On GitHub, the HTML representation is unable to render, please try loading this page with nbviewer.org.</b></div><div class=\"sk-container\" hidden><div class=\"sk-item sk-dashed-wrapped\"><div class=\"sk-label-container\"><div class=\"sk-label sk-toggleable\"><input class=\"sk-toggleable__control sk-hidden--visually\" id=\"sk-estimator-id-4\" type=\"checkbox\" ><label for=\"sk-estimator-id-4\" class=\"sk-toggleable__label sk-toggleable__label-arrow\">GridSearchCV</label><div class=\"sk-toggleable__content\"><pre>GridSearchCV(cv=5, estimator=RandomForestClassifier(random_state=42),\n",
       "             param_grid={&#x27;max_depth&#x27;: [8, 9, 10], &#x27;min_samples_leaf&#x27;: [1, 2, 3],\n",
       "                         &#x27;n_estimators&#x27;: [100, 150, 200]},\n",
       "             scoring=&#x27;accuracy&#x27;)</pre></div></div></div><div class=\"sk-parallel\"><div class=\"sk-parallel-item\"><div class=\"sk-item\"><div class=\"sk-label-container\"><div class=\"sk-label sk-toggleable\"><input class=\"sk-toggleable__control sk-hidden--visually\" id=\"sk-estimator-id-5\" type=\"checkbox\" ><label for=\"sk-estimator-id-5\" class=\"sk-toggleable__label sk-toggleable__label-arrow\">estimator: RandomForestClassifier</label><div class=\"sk-toggleable__content\"><pre>RandomForestClassifier(random_state=42)</pre></div></div></div><div class=\"sk-serial\"><div class=\"sk-item\"><div class=\"sk-estimator sk-toggleable\"><input class=\"sk-toggleable__control sk-hidden--visually\" id=\"sk-estimator-id-6\" type=\"checkbox\" ><label for=\"sk-estimator-id-6\" class=\"sk-toggleable__label sk-toggleable__label-arrow\">RandomForestClassifier</label><div class=\"sk-toggleable__content\"><pre>RandomForestClassifier(random_state=42)</pre></div></div></div></div></div></div></div></div></div></div>"
      ],
      "text/plain": [
       "GridSearchCV(cv=5, estimator=RandomForestClassifier(random_state=42),\n",
       "             param_grid={'max_depth': [8, 9, 10], 'min_samples_leaf': [1, 2, 3],\n",
       "                         'n_estimators': [100, 150, 200]},\n",
       "             scoring='accuracy')"
      ]
     },
     "execution_count": 45,
     "metadata": {},
     "output_type": "execute_result"
    }
   ],
   "source": [
    "rf_params = {'n_estimators':[100,150,200],\n",
    "             'max_depth':[8,9,10],\n",
    "             'min_samples_leaf':[1,2,3]}\n",
    "\n",
    "rf_grid = GridSearchCV(estimator=RandomForestClassifier(random_state=42),\n",
    "                       param_grid=rf_params,\n",
    "                       scoring='accuracy',\n",
    "                       cv=5)\n",
    "\n",
    "rf_grid.fit(X_train, y_train)"
   ]
  },
  {
   "cell_type": "code",
   "execution_count": 46,
   "id": "c08e1b7d",
   "metadata": {},
   "outputs": [
    {
     "data": {
      "text/plain": [
       "{'max_depth': 9, 'min_samples_leaf': 1, 'n_estimators': 150}"
      ]
     },
     "execution_count": 46,
     "metadata": {},
     "output_type": "execute_result"
    }
   ],
   "source": [
    "rf_grid.best_params_"
   ]
  },
  {
   "cell_type": "code",
   "execution_count": 47,
   "id": "da4aa3df",
   "metadata": {
    "scrolled": false
   },
   "outputs": [
    {
     "name": "stdout",
     "output_type": "stream",
     "text": [
      "Classification Report \n",
      "\n",
      "              precision    recall  f1-score   support\n",
      "\n",
      "           0       0.68      0.99      0.80       106\n",
      "           1       0.99      0.57      0.72       117\n",
      "\n",
      "    accuracy                           0.77       223\n",
      "   macro avg       0.83      0.78      0.76       223\n",
      "weighted avg       0.84      0.77      0.76       223\n",
      "\n",
      "\n",
      "\n",
      "Confusion Matrix\n"
     ]
    },
    {
     "data": {
      "image/png": "[encoded data removed]",
      "text/plain": [
       "<Figure size 640x480 with 2 Axes>"
      ]
     },
     "metadata": {},
     "output_type": "display_data"
    }
   ],
   "source": [
    "y_pred_rf_grid = rf_grid.predict(X_test)\n",
    "\n",
    "evaluate_model(y_test, y_pred_rf_grid)"
   ]
  },
  {
   "cell_type": "markdown",
   "id": "151b885f",
   "metadata": {},
   "source": [
    "### XGBoost"
   ]
  },
  {
   "cell_type": "markdown",
   "id": "7d3d0147",
   "metadata": {},
   "source": [
    "#### Base model"
   ]
  },
  {
   "cell_type": "code",
   "execution_count": 47,
   "id": "740aee21",
   "metadata": {},
   "outputs": [
    {
     "name": "stdout",
     "output_type": "stream",
     "text": [
      "Classification Report \n",
      "\n",
      "              precision    recall  f1-score   support\n",
      "\n",
      "           0       0.71      0.88      0.78       106\n",
      "           1       0.86      0.68      0.76       117\n",
      "\n",
      "    accuracy                           0.77       223\n",
      "   macro avg       0.78      0.78      0.77       223\n",
      "weighted avg       0.79      0.77      0.77       223\n",
      "\n",
      "\n",
      "\n",
      "Confusion Matrix\n"
     ]
    },
    {
     "data": {
      "image/png": "[encoded data removed]",
      "text/plain": [
       "<Figure size 640x480 with 2 Axes>"
      ]
     },
     "metadata": {},
     "output_type": "display_data"
    }
   ],
   "source": [
    "# Instantiate the base model\n",
    "xgb = XGBClassifier(random_state=42)\n",
    "\n",
    "# Fit the model to the training data\n",
    "xgb.fit(X_train, y_train)\n",
    "\n",
    "# Generate predictions\n",
    "y_pred_xgb = xgb.predict(X_test)\n",
    "\n",
    "# Evaluate the model performance\n",
    "evaluate_model(y_test, y_pred_xgb)"
   ]
  },
  {
   "cell_type": "markdown",
   "id": "fa347192",
   "metadata": {},
   "source": [
    "#### Feature Selection"
   ]
  },
  {
   "cell_type": "code",
   "execution_count": 48,
   "id": "5d711e93",
   "metadata": {},
   "outputs": [
    {
     "data": {
      "text/html": [
       "<div>\n",
       "<style scoped>\n",
       "    .dataframe tbody tr th:only-of-type {\n",
       "        vertical-align: middle;\n",
       "    }\n",
       "\n",
       "    .dataframe tbody tr th {\n",
       "        vertical-align: top;\n",
       "    }\n",
       "\n",
       "    .dataframe thead th {\n",
       "        text-align: right;\n",
       "    }\n",
       "</style>\n",
       "<table border=\"1\" class=\"dataframe\">\n",
       "  <thead>\n",
       "    <tr style=\"text-align: right;\">\n",
       "      <th></th>\n",
       "      <th>feature_importance</th>\n",
       "    </tr>\n",
       "  </thead>\n",
       "  <tbody>\n",
       "    <tr>\n",
       "      <th>collision_type_unknown</th>\n",
       "      <td>0.284097</td>\n",
       "    </tr>\n",
       "    <tr>\n",
       "      <th>auto_make_toyota</th>\n",
       "      <td>0.040097</td>\n",
       "    </tr>\n",
       "    <tr>\n",
       "      <th>fraud_reported_y</th>\n",
       "      <td>0.034091</td>\n",
       "    </tr>\n",
       "    <tr>\n",
       "      <th>auto_model_92x</th>\n",
       "      <td>0.029572</td>\n",
       "    </tr>\n",
       "    <tr>\n",
       "      <th>auto_make_jeep</th>\n",
       "      <td>0.024157</td>\n",
       "    </tr>\n",
       "    <tr>\n",
       "      <th>...</th>\n",
       "      <td>...</td>\n",
       "    </tr>\n",
       "    <tr>\n",
       "      <th>auto_model_corolla</th>\n",
       "      <td>0.000000</td>\n",
       "    </tr>\n",
       "    <tr>\n",
       "      <th>auto_model_crv</th>\n",
       "      <td>0.000000</td>\n",
       "    </tr>\n",
       "    <tr>\n",
       "      <th>incident_year</th>\n",
       "      <td>0.000000</td>\n",
       "    </tr>\n",
       "    <tr>\n",
       "      <th>auto_model_highlander</th>\n",
       "      <td>0.000000</td>\n",
       "    </tr>\n",
       "    <tr>\n",
       "      <th>auto_model_c300</th>\n",
       "      <td>0.000000</td>\n",
       "    </tr>\n",
       "  </tbody>\n",
       "</table>\n",
       "<p>103 rows × 1 columns</p>\n",
       "</div>"
      ],
      "text/plain": [
       "                        feature_importance\n",
       "collision_type_unknown            0.284097\n",
       "auto_make_toyota                  0.040097\n",
       "fraud_reported_y                  0.034091\n",
       "auto_model_92x                    0.029572\n",
       "auto_make_jeep                    0.024157\n",
       "...                                    ...\n",
       "auto_model_corolla                0.000000\n",
       "auto_model_crv                    0.000000\n",
       "incident_year                     0.000000\n",
       "auto_model_highlander             0.000000\n",
       "auto_model_c300                   0.000000\n",
       "\n",
       "[103 rows x 1 columns]"
      ]
     },
     "execution_count": 48,
     "metadata": {},
     "output_type": "execute_result"
    }
   ],
   "source": [
    "# Feature importance\n",
    "xgb_features = pd.DataFrame(data=xgb.feature_importances_, columns=['feature_importance'],\n",
    "               index=X_train.columns).sort_values(by='feature_importance', ascending=False)\n",
    "\n",
    "xgb_features"
   ]
  },
  {
   "cell_type": "code",
   "execution_count": 49,
   "id": "0ae6e3c3",
   "metadata": {},
   "outputs": [
    {
     "data": {
      "text/plain": [
       "Index(['collision_type_unknown', 'auto_make_toyota', 'fraud_reported_y',\n",
       "       'auto_model_92x', 'auto_make_jeep',\n",
       "       'incident_type_single vehicle collision', 'auto_model_grand cherokee',\n",
       "       'auto_make_volkswagen', 'auto_model_jetta', 'auto_make_chevrolet',\n",
       "       'incident_state_ny', 'auto_model_escape', 'incident_city_columbus',\n",
       "       'incident_city_northbrook', 'auto_make_dodge', 'auto_make_honda',\n",
       "       'auto_model_ultima', 'property_damage_unknown', 'auto_model_x6',\n",
       "       'auto_model_x5', 'auto_make_mercedes', 'incident_city_hillsdale',\n",
       "       'auto_model_m5', 'collision_type_rear collision'],\n",
       "      dtype='object')"
      ]
     },
     "execution_count": 49,
     "metadata": {},
     "output_type": "execute_result"
    }
   ],
   "source": [
    "xgb_top_features = xgb_features[xgb_features['feature_importance'] >= 0.01].index\n",
    "xgb_top_features"
   ]
  },
  {
   "cell_type": "code",
   "execution_count": 50,
   "id": "c3033004",
   "metadata": {},
   "outputs": [],
   "source": [
    "X_train_xgb = X_train[xgb_top_features]\n",
    "X_test_xgb = X_test[xgb_top_features]"
   ]
  },
  {
   "cell_type": "code",
   "execution_count": 51,
   "id": "52dbd9d7",
   "metadata": {},
   "outputs": [
    {
     "name": "stdout",
     "output_type": "stream",
     "text": [
      "Classification Report \n",
      "\n",
      "              precision    recall  f1-score   support\n",
      "\n",
      "           0       0.70      0.81      0.75       106\n",
      "           1       0.80      0.68      0.74       117\n",
      "\n",
      "    accuracy                           0.74       223\n",
      "   macro avg       0.75      0.75      0.74       223\n",
      "weighted avg       0.75      0.74      0.74       223\n",
      "\n",
      "\n",
      "\n",
      "Confusion Matrix\n"
     ]
    },
    {
     "data": {
      "image/png": "[encoded data removed]",
      "text/plain": [
       "<Figure size 640x480 with 2 Axes>"
      ]
     },
     "metadata": {},
     "output_type": "display_data"
    }
   ],
   "source": [
    "# Refit the model to the newly selected features\n",
    "xgb.fit(X_train_xgb, y_train)\n",
    "\n",
    "y_pred_xgb = xgb.predict(X_test_xgb)\n",
    "\n",
    "evaluate_model(y_test, y_pred_xgb)"
   ]
  },
  {
   "cell_type": "markdown",
   "id": "5b258370",
   "metadata": {},
   "source": [
    "#### Hyperparameter tuning"
   ]
  },
  {
   "cell_type": "code",
   "execution_count": null,
   "id": "0d816691",
   "metadata": {},
   "outputs": [],
   "source": [
    "xgb_params = "
   ]
  },
  {
   "cell_type": "markdown",
   "id": "24eca037",
   "metadata": {},
   "source": [
    "### Neural Network"
   ]
  },
  {
   "cell_type": "code",
   "execution_count": 52,
   "id": "4de187ba",
   "metadata": {
    "scrolled": false
   },
   "outputs": [
    {
     "name": "stdout",
     "output_type": "stream",
     "text": [
      "Classification Report \n",
      "\n",
      "              precision    recall  f1-score   support\n",
      "\n",
      "           0       0.76      0.75      0.76       106\n",
      "           1       0.78      0.79      0.78       117\n",
      "\n",
      "    accuracy                           0.77       223\n",
      "   macro avg       0.77      0.77      0.77       223\n",
      "weighted avg       0.77      0.77      0.77       223\n",
      "\n",
      "\n",
      "\n",
      "Confusion Matrix\n"
     ]
    },
    {
     "data": {
      "image/png": "[encoded data removed]",
      "text/plain": [
       "<Figure size 640x480 with 2 Axes>"
      ]
     },
     "metadata": {},
     "output_type": "display_data"
    }
   ],
   "source": [
    "# Instantiate the base model\n",
    "nn = MLPClassifier(random_state=42)\n",
    "\n",
    "# Fit the model to the training data\n",
    "nn.fit(X_train, y_train)\n",
    "\n",
    "# Generate predictions\n",
    "y_pred_nn = nn.predict(X_test)\n",
    "\n",
    "# Evaluate the model performance\n",
    "evaluate_model(y_test, y_pred_nn)"
   ]
  },
  {
   "cell_type": "markdown",
   "id": "c5aecfed",
   "metadata": {},
   "source": [
    "#### Hyperparameter tuning"
   ]
  },
  {
   "cell_type": "code",
   "execution_count": null,
   "id": "fd4b41ab",
   "metadata": {},
   "outputs": [],
   "source": []
  },
  {
   "cell_type": "markdown",
   "id": "171d9f36",
   "metadata": {},
   "source": [
    "#### Feature selection"
   ]
  },
  {
   "cell_type": "code",
   "execution_count": null,
   "id": "04d16b0d",
   "metadata": {},
   "outputs": [],
   "source": []
  },
  {
   "cell_type": "markdown",
   "id": "162c36cf",
   "metadata": {},
   "source": [
    "## Model Evaluation"
   ]
  },
  {
   "cell_type": "code",
   "execution_count": null,
   "id": "55c283ae",
   "metadata": {},
   "outputs": [],
   "source": []
  }
 ],
 "metadata": {
  "kernelspec": {
   "display_name": "Python 3 (ipykernel)",
   "language": "python",
   "name": "python3"
  },
  "language_info": {
   "codemirror_mode": {
    "name": "ipython",
    "version": 3
   },
   "file_extension": ".py",
   "mimetype": "text/x-python",
   "name": "python",
   "nbconvert_exporter": "python",
   "pygments_lexer": "ipython3",
   "version": "3.11.7"
  }
 },
 "nbformat": 4,
 "nbformat_minor": 5
}
