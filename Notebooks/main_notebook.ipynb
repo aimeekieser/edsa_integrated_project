{
 "cells": [
  {
   "cell_type": "markdown",
   "id": "df2feca9",
   "metadata": {},
   "source": [
    "# Integrated Project: \n",
    "## Insurance Customer Retention Through Incident Severity Prediction\n",
    "\n",
    "© Explore Data Science Academy\n",
    "\n",
    "---\n",
    "\n",
    "Image"
   ]
  },
  {
   "cell_type": "markdown",
   "id": "2cb86043",
   "metadata": {},
   "source": [
    "<a id=\"cont\"></a>\n",
    "## Table of Contents\n",
    "\n",
    "<a href=#one>1. Introduction</a>\n",
    "\n",
    "<a href=#two>2. Importing Packages</a>\n",
    "\n",
    "<a href=#three>3. Loading Datasets</a>\n",
    "\n",
    "<a href=#four>4. Data Preprocessing</a>\n",
    "\n",
    "<a href=#five>5. Exploratory Data Analysis</a>\n",
    "\n",
    "<a href=#six>6. Feature Engineering</a>\n",
    "\n",
    "<a href=#seven>7. Splitting the Data</a>\n",
    "\n",
    "<a href=#eight>8. Balancing Classes</a>\n",
    "\n",
    "<a href=#nine>9. Model Building</a>\n",
    "\n",
    "<a href=#ten>10. Model Evaluation</a><a id=\"cont\"></a>"
   ]
  },
  {
   "cell_type": "markdown",
   "id": "89f3b2fd",
   "metadata": {},
   "source": [
    " <a id=\"one\"></a>\n",
    "## 1. Introduction\n",
    "<a href=#cont>Back to Table of Contents</a>\n",
    "\n",
    "---\n",
    "\n",
    "Start: Africa holds only x% of insurance despite having x% of world population etc, introduction to insurance and customer retention, affiliation and reducing customer churn. What are some factors that influence customer retention. I have chosen to focus on incident severity detection, discuss how this can impact customer retention and affiliation."
   ]
  },
  {
   "cell_type": "markdown",
   "id": "0ae9d4c7",
   "metadata": {},
   "source": [
    "### Problem Statement\n",
    "\n",
    "???"
   ]
  },
  {
   "cell_type": "markdown",
   "id": "036ace34",
   "metadata": {},
   "source": [
    "### Dataset Description\n",
    "\n",
    "Consists of what, where did the data come from. Consists of motor vehicle claims that were made between 2015-01-01 and 2015-03-01.\n",
    "\n",
    "#### Class Description\n",
    "- `Total loss`: \n",
    "- `Major damage`: \n",
    "- `Minor damage`: \n",
    "- `Trivial damage`: \n",
    "\n",
    "#### Relevant Feature Description:\n",
    "- `policy_number`: Unique customer identifier\n",
    "- `incident_date`: Date incident occurred\n",
    "- `incident_type`: Description of type of incident that occurred\n",
    "- `collision_type`: Desciption of type of collision that occurred\n",
    "- `authorities_contacted`: Type of authority that was contacted following incident\n",
    "- `incident_state`: Stae in which incident occurred\n",
    "- `incident_city`: City in which incident occurred\n",
    "- `incident_location`: Street address at which incident occurred\n",
    "- `incident_hour_of_the_day`: Hour at which incident occurred\n",
    "- `number_of_vehicles_involved`: Number of vehicles involved in incident\n",
    "- `property_damage`: Incident whether or not property was damaged\n",
    "- `bodily_injuries`: Number of bodily injuries\n",
    "- `police_report_available`: Indicates whether or not a police report is available\n",
    "- `total_claim_amount`: Total monetary claim amount\n",
    "- `injury_claim`: Amount claimed for bodily injuries\n",
    "- `property_claim`: Amount claimed for property damage\n",
    "- `vehicle_claim`: Amount claimed for vehicle damage\n",
    "- `auto_make`: Vehicle brand\n",
    "- `auto_model`: Vehicle model\n",
    "- `auto_year`: Year of manufacturing"
   ]
  },
  {
   "cell_type": "markdown",
   "id": "935350fe",
   "metadata": {},
   "source": [
    "Incident severity prediction can indirectly impact customer retention and affiliation in several ways:\n",
    "\n",
    "Improved Customer Experience: By accurately predicting the severity of insurance incidents, insurers can respond more effectively and efficiently to customers' needs. Customers who experience smoother and more satisfactory claim processes are more likely to remain loyal to their insurance provider.\n",
    "\n",
    "Faster Claim Settlement: Predicting incident severity allows insurers to prioritize claims based on their potential impact, ensuring that critical cases are addressed promptly. Faster claim settlement times contribute to higher customer satisfaction and trust in the insurance company, increasing the likelihood of retention.\n",
    "\n",
    "Personalized Customer Support: Understanding the severity of an incident enables insurers to provide personalized support to customers based on their specific needs. For example, in cases of high-severity incidents, insurers can offer additional assistance or resources to help customers navigate through the claims process, demonstrating care and support that enhances customer loyalty.\n",
    "\n",
    "Effective Resource Allocation: Predicting incident severity helps insurers allocate resources more effectively, such as claims adjusters, emergency services, and support staff. By efficiently deploying resources to handle high-severity incidents, insurers can ensure timely assistance to customers, reducing frustration and dissatisfaction that could lead to churn.\n",
    "\n",
    "Risk Mitigation: Identifying high-severity incidents allows insurers to proactively assess and mitigate risks in specific regions or demographics. By addressing potential risks before they escalate into severe incidents, insurers can protect their customers and assets, fostering trust and confidence among policyholders.\n",
    "\n",
    "Competitive Advantage: Insurance companies that excel in predicting incident severity and providing superior customer support gain a competitive edge in the market. Satisfied customers are more likely to renew their policies and recommend the insurer to others, increasing customer retention and affiliation.\n",
    "\n",
    "In summary, incident severity prediction indirectly contributes to customer retention and affiliation by enhancing the overall customer experience, facilitating faster claim settlement, providing personalized support, optimizing resource allocation, mitigating risks, and gaining a competitive advantage in the insurance industry. By prioritizing customer satisfaction and well-being, insurers can foster long-term relationships with policyholders and strengthen their brand loyalty."
   ]
  },
  {
   "cell_type": "markdown",
   "id": "f3fa09f8",
   "metadata": {},
   "source": [
    " <a id=\"two\"></a>\n",
    "## 2. Importing Packages\n",
    "<a href=#cont>Back to Table of Contents</a>\n",
    "\n",
    "---\n"
   ]
  },
  {
   "cell_type": "code",
   "execution_count": 39,
   "id": "db9f6445",
   "metadata": {},
   "outputs": [],
   "source": [
    "# Interacting with the data\n",
    "import numpy as np\n",
    "import pandas as pd\n",
    "\n",
    "# Visualisations\n",
    "import matplotlib.pyplot as plt\n",
    "import seaborn as sns\n",
    "\n",
    "# Preprocessing\n",
    "from sklearn.preprocessing import StandardScaler, OrdinalEncoder, LabelEncoder\n",
    "\n",
    "# Sampling\n",
    "from sklearn.model_selection import train_test_split\n",
    "from imblearn.over_sampling import SMOTE\n",
    "\n",
    "# Model building\n",
    "from sklearn.linear_model import LogisticRegression\n",
    "from sklearn.tree import DecisionTreeClassifier\n",
    "from sklearn.svm import SVC, LinearSVC\n",
    "from sklearn.ensemble import RandomForestClassifier, GradientBoostingClassifier\n",
    "from xgboost import XGBClassifier\n",
    "from sklearn.naive_bayes import MultinomialNB, ComplementNB\n",
    "from sklearn.neighbors import KNeighborsClassifier\n",
    "\n",
    "# Model evaulation\n",
    "from sklearn.metrics import classification_report, confusion_matrix, ConfusionMatrixDisplay"
   ]
  },
  {
   "cell_type": "code",
   "execution_count": 2,
   "id": "ccd09cbd",
   "metadata": {},
   "outputs": [],
   "source": [
    "import warnings\n",
    "warnings.filterwarnings('ignore')"
   ]
  },
  {
   "cell_type": "markdown",
   "id": "563ec517",
   "metadata": {},
   "source": [
    " <a id=\"three\"></a>\n",
    "## 3. Loading Datasets\n",
    "<a href=#cont>Back to Table of Contents</a>\n",
    "\n",
    "---\n"
   ]
  },
  {
   "cell_type": "code",
   "execution_count": 3,
   "id": "f51b39fc",
   "metadata": {},
   "outputs": [],
   "source": [
    "df = pd.read_excel('../Data/Insurance Claims Data - Cleaned.xlsx')"
   ]
  },
  {
   "cell_type": "code",
   "execution_count": 4,
   "id": "49c04703",
   "metadata": {},
   "outputs": [
    {
     "data": {
      "text/html": [
       "<div>\n",
       "<style scoped>\n",
       "    .dataframe tbody tr th:only-of-type {\n",
       "        vertical-align: middle;\n",
       "    }\n",
       "\n",
       "    .dataframe tbody tr th {\n",
       "        vertical-align: top;\n",
       "    }\n",
       "\n",
       "    .dataframe thead th {\n",
       "        text-align: right;\n",
       "    }\n",
       "</style>\n",
       "<table border=\"1\" class=\"dataframe\">\n",
       "  <thead>\n",
       "    <tr style=\"text-align: right;\">\n",
       "      <th></th>\n",
       "      <th>months_as_customer</th>\n",
       "      <th>age</th>\n",
       "      <th>policy_number</th>\n",
       "      <th>policy_bind_date</th>\n",
       "      <th>policy_state</th>\n",
       "      <th>policy_csl</th>\n",
       "      <th>policy_deductable</th>\n",
       "      <th>policy_annual_premium</th>\n",
       "      <th>umbrella_limit</th>\n",
       "      <th>insured_zip</th>\n",
       "      <th>...</th>\n",
       "      <th>witnesses</th>\n",
       "      <th>police_report_available</th>\n",
       "      <th>total_claim_amount</th>\n",
       "      <th>injury_claim</th>\n",
       "      <th>property_claim</th>\n",
       "      <th>vehicle_claim</th>\n",
       "      <th>auto_make</th>\n",
       "      <th>auto_model</th>\n",
       "      <th>auto_year</th>\n",
       "      <th>fraud_reported</th>\n",
       "    </tr>\n",
       "  </thead>\n",
       "  <tbody>\n",
       "    <tr>\n",
       "      <th>0</th>\n",
       "      <td>328</td>\n",
       "      <td>48</td>\n",
       "      <td>521585</td>\n",
       "      <td>2014-10-17</td>\n",
       "      <td>OH</td>\n",
       "      <td>250/500</td>\n",
       "      <td>1000</td>\n",
       "      <td>1406.91</td>\n",
       "      <td>0</td>\n",
       "      <td>466132</td>\n",
       "      <td>...</td>\n",
       "      <td>2</td>\n",
       "      <td>YES</td>\n",
       "      <td>71610</td>\n",
       "      <td>6510</td>\n",
       "      <td>13020</td>\n",
       "      <td>52080</td>\n",
       "      <td>Saab</td>\n",
       "      <td>92x</td>\n",
       "      <td>2004</td>\n",
       "      <td>Y</td>\n",
       "    </tr>\n",
       "    <tr>\n",
       "      <th>1</th>\n",
       "      <td>228</td>\n",
       "      <td>42</td>\n",
       "      <td>342868</td>\n",
       "      <td>2006-06-27</td>\n",
       "      <td>IN</td>\n",
       "      <td>250/500</td>\n",
       "      <td>2000</td>\n",
       "      <td>1197.22</td>\n",
       "      <td>5000000</td>\n",
       "      <td>468176</td>\n",
       "      <td>...</td>\n",
       "      <td>0</td>\n",
       "      <td>?</td>\n",
       "      <td>5070</td>\n",
       "      <td>780</td>\n",
       "      <td>780</td>\n",
       "      <td>3510</td>\n",
       "      <td>Mercedes</td>\n",
       "      <td>E400</td>\n",
       "      <td>2007</td>\n",
       "      <td>Y</td>\n",
       "    </tr>\n",
       "    <tr>\n",
       "      <th>2</th>\n",
       "      <td>134</td>\n",
       "      <td>29</td>\n",
       "      <td>687698</td>\n",
       "      <td>2000-09-06</td>\n",
       "      <td>OH</td>\n",
       "      <td>100/300</td>\n",
       "      <td>2000</td>\n",
       "      <td>1413.14</td>\n",
       "      <td>5000000</td>\n",
       "      <td>430632</td>\n",
       "      <td>...</td>\n",
       "      <td>3</td>\n",
       "      <td>NO</td>\n",
       "      <td>34650</td>\n",
       "      <td>7700</td>\n",
       "      <td>3850</td>\n",
       "      <td>23100</td>\n",
       "      <td>Dodge</td>\n",
       "      <td>RAM</td>\n",
       "      <td>2007</td>\n",
       "      <td>N</td>\n",
       "    </tr>\n",
       "    <tr>\n",
       "      <th>3</th>\n",
       "      <td>256</td>\n",
       "      <td>41</td>\n",
       "      <td>227811</td>\n",
       "      <td>1990-05-25</td>\n",
       "      <td>IL</td>\n",
       "      <td>250/500</td>\n",
       "      <td>2000</td>\n",
       "      <td>1415.74</td>\n",
       "      <td>6000000</td>\n",
       "      <td>608117</td>\n",
       "      <td>...</td>\n",
       "      <td>2</td>\n",
       "      <td>NO</td>\n",
       "      <td>63400</td>\n",
       "      <td>6340</td>\n",
       "      <td>6340</td>\n",
       "      <td>50720</td>\n",
       "      <td>Chevrolet</td>\n",
       "      <td>Tahoe</td>\n",
       "      <td>2014</td>\n",
       "      <td>Y</td>\n",
       "    </tr>\n",
       "    <tr>\n",
       "      <th>4</th>\n",
       "      <td>228</td>\n",
       "      <td>44</td>\n",
       "      <td>367455</td>\n",
       "      <td>2014-06-06</td>\n",
       "      <td>IL</td>\n",
       "      <td>500/1000</td>\n",
       "      <td>1000</td>\n",
       "      <td>1583.91</td>\n",
       "      <td>6000000</td>\n",
       "      <td>610706</td>\n",
       "      <td>...</td>\n",
       "      <td>1</td>\n",
       "      <td>NO</td>\n",
       "      <td>6500</td>\n",
       "      <td>1300</td>\n",
       "      <td>650</td>\n",
       "      <td>4550</td>\n",
       "      <td>Accura</td>\n",
       "      <td>RSX</td>\n",
       "      <td>2009</td>\n",
       "      <td>N</td>\n",
       "    </tr>\n",
       "  </tbody>\n",
       "</table>\n",
       "<p>5 rows × 39 columns</p>\n",
       "</div>"
      ],
      "text/plain": [
       "   months_as_customer  age  policy_number policy_bind_date policy_state  \\\n",
       "0                 328   48         521585       2014-10-17           OH   \n",
       "1                 228   42         342868       2006-06-27           IN   \n",
       "2                 134   29         687698       2000-09-06           OH   \n",
       "3                 256   41         227811       1990-05-25           IL   \n",
       "4                 228   44         367455       2014-06-06           IL   \n",
       "\n",
       "  policy_csl  policy_deductable  policy_annual_premium  umbrella_limit  \\\n",
       "0    250/500               1000                1406.91               0   \n",
       "1    250/500               2000                1197.22         5000000   \n",
       "2    100/300               2000                1413.14         5000000   \n",
       "3    250/500               2000                1415.74         6000000   \n",
       "4   500/1000               1000                1583.91         6000000   \n",
       "\n",
       "   insured_zip  ... witnesses police_report_available total_claim_amount  \\\n",
       "0       466132  ...         2                     YES              71610   \n",
       "1       468176  ...         0                       ?               5070   \n",
       "2       430632  ...         3                      NO              34650   \n",
       "3       608117  ...         2                      NO              63400   \n",
       "4       610706  ...         1                      NO               6500   \n",
       "\n",
       "  injury_claim property_claim  vehicle_claim  auto_make auto_model auto_year  \\\n",
       "0         6510          13020          52080       Saab        92x      2004   \n",
       "1          780            780           3510   Mercedes       E400      2007   \n",
       "2         7700           3850          23100      Dodge        RAM      2007   \n",
       "3         6340           6340          50720  Chevrolet      Tahoe      2014   \n",
       "4         1300            650           4550     Accura        RSX      2009   \n",
       "\n",
       "  fraud_reported  \n",
       "0              Y  \n",
       "1              Y  \n",
       "2              N  \n",
       "3              Y  \n",
       "4              N  \n",
       "\n",
       "[5 rows x 39 columns]"
      ]
     },
     "execution_count": 4,
     "metadata": {},
     "output_type": "execute_result"
    }
   ],
   "source": [
    "df.head()"
   ]
  },
  {
   "cell_type": "markdown",
   "id": "18246861",
   "metadata": {},
   "source": [
    " <a id=\"four\"></a>\n",
    "## 4. Data Preprocessing\n",
    "<a href=#cont>Back to Table of Contents</a>\n",
    "\n",
    "---\n"
   ]
  },
  {
   "cell_type": "markdown",
   "id": "6d76d355",
   "metadata": {},
   "source": [
    "As our aim is to predict incident severity, we will start by dropping features that are not relevant to the incident."
   ]
  },
  {
   "cell_type": "code",
   "execution_count": 5,
   "id": "f41b9527",
   "metadata": {},
   "outputs": [],
   "source": [
    "# Drop irrelevant features\n",
    "df = df.drop(['months_as_customer','age','policy_bind_date','policy_state','policy_csl',\n",
    "              'policy_deductable','policy_annual_premium','umbrella_limit', 'insured_zip',\n",
    "              'insured_sex','insured_education_level', 'insured_occupation', 'insured_hobbies',\n",
    "              'insured_relationship','capital-gains', 'capital-loss','witnesses','fraud_reported'\n",
    "             ],axis=1)"
   ]
  },
  {
   "cell_type": "code",
   "execution_count": 6,
   "id": "ad23a843",
   "metadata": {},
   "outputs": [
    {
     "name": "stdout",
     "output_type": "stream",
     "text": [
      "<class 'pandas.core.frame.DataFrame'>\n",
      "RangeIndex: 1000 entries, 0 to 999\n",
      "Data columns (total 21 columns):\n",
      " #   Column                       Non-Null Count  Dtype         \n",
      "---  ------                       --------------  -----         \n",
      " 0   policy_number                1000 non-null   int64         \n",
      " 1   incident_date                1000 non-null   datetime64[ns]\n",
      " 2   incident_type                1000 non-null   object        \n",
      " 3   collision_type               1000 non-null   object        \n",
      " 4   incident_severity            1000 non-null   object        \n",
      " 5   authorities_contacted        909 non-null    object        \n",
      " 6   incident_state               1000 non-null   object        \n",
      " 7   incident_city                1000 non-null   object        \n",
      " 8   incident_location            1000 non-null   object        \n",
      " 9   incident_hour_of_the_day     1000 non-null   int64         \n",
      " 10  number_of_vehicles_involved  1000 non-null   int64         \n",
      " 11  property_damage              1000 non-null   object        \n",
      " 12  bodily_injuries              1000 non-null   int64         \n",
      " 13  police_report_available      1000 non-null   object        \n",
      " 14  total_claim_amount           1000 non-null   int64         \n",
      " 15  injury_claim                 1000 non-null   int64         \n",
      " 16  property_claim               1000 non-null   int64         \n",
      " 17  vehicle_claim                1000 non-null   int64         \n",
      " 18  auto_make                    1000 non-null   object        \n",
      " 19  auto_model                   1000 non-null   object        \n",
      " 20  auto_year                    1000 non-null   int64         \n",
      "dtypes: datetime64[ns](1), int64(9), object(11)\n",
      "memory usage: 164.2+ KB\n"
     ]
    }
   ],
   "source": [
    "df.info()"
   ]
  },
  {
   "cell_type": "code",
   "execution_count": 7,
   "id": "57f536be",
   "metadata": {},
   "outputs": [
    {
     "data": {
      "text/plain": [
       "policy_number                  False\n",
       "incident_date                  False\n",
       "incident_type                  False\n",
       "collision_type                 False\n",
       "incident_severity              False\n",
       "authorities_contacted           True\n",
       "incident_state                 False\n",
       "incident_city                  False\n",
       "incident_location              False\n",
       "incident_hour_of_the_day       False\n",
       "number_of_vehicles_involved    False\n",
       "property_damage                False\n",
       "bodily_injuries                False\n",
       "police_report_available        False\n",
       "total_claim_amount             False\n",
       "injury_claim                   False\n",
       "property_claim                 False\n",
       "vehicle_claim                  False\n",
       "auto_make                      False\n",
       "auto_model                     False\n",
       "auto_year                      False\n",
       "dtype: bool"
      ]
     },
     "execution_count": 7,
     "metadata": {},
     "output_type": "execute_result"
    }
   ],
   "source": [
    "df.isna().any()"
   ]
  },
  {
   "cell_type": "markdown",
   "id": "1116e5aa",
   "metadata": {},
   "source": [
    "The majority of data preprocessing was performed in Microsoft Excel prior to loading the dataset. However, the following must still be addressed:\n",
    "- Remove redundant features: the feature `policy_number` is a unique customer identifier and provides no additional information relating to the claim.\n",
    "- Normalizing the case of text data to avoid discrepancies.\n",
    "- Address missing values: despite imputing data into missing values during data cleaning, the 'None' category in the feature `authorities_contacted` is being identified as a NaN value.\n",
    "- The features `collision_type`, `property_damage` and `police_report` contain '?' where the catgory is unknown"
   ]
  },
  {
   "cell_type": "code",
   "execution_count": 8,
   "id": "f3e2cc7d",
   "metadata": {},
   "outputs": [],
   "source": [
    "# Remove policy_number feature\n",
    "df = df.drop('policy_number', axis=1)"
   ]
  },
  {
   "cell_type": "code",
   "execution_count": 9,
   "id": "1cba8994",
   "metadata": {},
   "outputs": [],
   "source": [
    "# Normalize case of text columns to avoid inconsistencies\n",
    "def lowercase_strings(x):\n",
    "    if isinstance(x, str):\n",
    "        return x.lower()\n",
    "    else:\n",
    "        return x\n",
    "\n",
    "df = df.applymap(lowercase_strings)"
   ]
  },
  {
   "cell_type": "code",
   "execution_count": 10,
   "id": "d89234a5",
   "metadata": {},
   "outputs": [],
   "source": [
    "# Replace NaN values with the string 'none'\n",
    "df['authorities_contacted'] = df['authorities_contacted'].fillna('none')"
   ]
  },
  {
   "cell_type": "code",
   "execution_count": 11,
   "id": "7be3b81e",
   "metadata": {},
   "outputs": [],
   "source": [
    "# Replace '?' datapoints with 'unknown'\n",
    "df = df.replace('?', 'unknown')"
   ]
  },
  {
   "cell_type": "markdown",
   "id": "a5c71198",
   "metadata": {},
   "source": [
    "**Note:** Maybe keep some demographics to start with, use EDA to see if there are any relationships?"
   ]
  },
  {
   "cell_type": "code",
   "execution_count": 12,
   "id": "d2663c4f",
   "metadata": {
    "scrolled": false
   },
   "outputs": [
    {
     "data": {
      "text/html": [
       "<div>\n",
       "<style scoped>\n",
       "    .dataframe tbody tr th:only-of-type {\n",
       "        vertical-align: middle;\n",
       "    }\n",
       "\n",
       "    .dataframe tbody tr th {\n",
       "        vertical-align: top;\n",
       "    }\n",
       "\n",
       "    .dataframe thead th {\n",
       "        text-align: right;\n",
       "    }\n",
       "</style>\n",
       "<table border=\"1\" class=\"dataframe\">\n",
       "  <thead>\n",
       "    <tr style=\"text-align: right;\">\n",
       "      <th></th>\n",
       "      <th>incident_date</th>\n",
       "      <th>incident_type</th>\n",
       "      <th>collision_type</th>\n",
       "      <th>incident_severity</th>\n",
       "      <th>authorities_contacted</th>\n",
       "      <th>incident_state</th>\n",
       "      <th>incident_city</th>\n",
       "      <th>incident_location</th>\n",
       "      <th>incident_hour_of_the_day</th>\n",
       "      <th>number_of_vehicles_involved</th>\n",
       "      <th>property_damage</th>\n",
       "      <th>bodily_injuries</th>\n",
       "      <th>police_report_available</th>\n",
       "      <th>total_claim_amount</th>\n",
       "      <th>injury_claim</th>\n",
       "      <th>property_claim</th>\n",
       "      <th>vehicle_claim</th>\n",
       "      <th>auto_make</th>\n",
       "      <th>auto_model</th>\n",
       "      <th>auto_year</th>\n",
       "    </tr>\n",
       "  </thead>\n",
       "  <tbody>\n",
       "    <tr>\n",
       "      <th>0</th>\n",
       "      <td>2015-01-25</td>\n",
       "      <td>single vehicle collision</td>\n",
       "      <td>side collision</td>\n",
       "      <td>major damage</td>\n",
       "      <td>police</td>\n",
       "      <td>sc</td>\n",
       "      <td>columbus</td>\n",
       "      <td>9935 4th drive</td>\n",
       "      <td>5</td>\n",
       "      <td>1</td>\n",
       "      <td>yes</td>\n",
       "      <td>1</td>\n",
       "      <td>yes</td>\n",
       "      <td>71610</td>\n",
       "      <td>6510</td>\n",
       "      <td>13020</td>\n",
       "      <td>52080</td>\n",
       "      <td>saab</td>\n",
       "      <td>92x</td>\n",
       "      <td>2004</td>\n",
       "    </tr>\n",
       "    <tr>\n",
       "      <th>1</th>\n",
       "      <td>2015-01-21</td>\n",
       "      <td>vehicle theft</td>\n",
       "      <td>unknown</td>\n",
       "      <td>minor damage</td>\n",
       "      <td>police</td>\n",
       "      <td>va</td>\n",
       "      <td>riverwood</td>\n",
       "      <td>6608 mlk hwy</td>\n",
       "      <td>8</td>\n",
       "      <td>1</td>\n",
       "      <td>unknown</td>\n",
       "      <td>0</td>\n",
       "      <td>unknown</td>\n",
       "      <td>5070</td>\n",
       "      <td>780</td>\n",
       "      <td>780</td>\n",
       "      <td>3510</td>\n",
       "      <td>mercedes</td>\n",
       "      <td>e400</td>\n",
       "      <td>2007</td>\n",
       "    </tr>\n",
       "    <tr>\n",
       "      <th>2</th>\n",
       "      <td>2015-02-22</td>\n",
       "      <td>multi-vehicle collision</td>\n",
       "      <td>rear collision</td>\n",
       "      <td>minor damage</td>\n",
       "      <td>police</td>\n",
       "      <td>ny</td>\n",
       "      <td>columbus</td>\n",
       "      <td>7121 francis lane</td>\n",
       "      <td>7</td>\n",
       "      <td>3</td>\n",
       "      <td>no</td>\n",
       "      <td>2</td>\n",
       "      <td>no</td>\n",
       "      <td>34650</td>\n",
       "      <td>7700</td>\n",
       "      <td>3850</td>\n",
       "      <td>23100</td>\n",
       "      <td>dodge</td>\n",
       "      <td>ram</td>\n",
       "      <td>2007</td>\n",
       "    </tr>\n",
       "    <tr>\n",
       "      <th>3</th>\n",
       "      <td>2015-01-10</td>\n",
       "      <td>single vehicle collision</td>\n",
       "      <td>front collision</td>\n",
       "      <td>major damage</td>\n",
       "      <td>police</td>\n",
       "      <td>oh</td>\n",
       "      <td>arlington</td>\n",
       "      <td>6956 maple drive</td>\n",
       "      <td>5</td>\n",
       "      <td>1</td>\n",
       "      <td>unknown</td>\n",
       "      <td>1</td>\n",
       "      <td>no</td>\n",
       "      <td>63400</td>\n",
       "      <td>6340</td>\n",
       "      <td>6340</td>\n",
       "      <td>50720</td>\n",
       "      <td>chevrolet</td>\n",
       "      <td>tahoe</td>\n",
       "      <td>2014</td>\n",
       "    </tr>\n",
       "    <tr>\n",
       "      <th>4</th>\n",
       "      <td>2015-02-17</td>\n",
       "      <td>vehicle theft</td>\n",
       "      <td>unknown</td>\n",
       "      <td>minor damage</td>\n",
       "      <td>none</td>\n",
       "      <td>ny</td>\n",
       "      <td>arlington</td>\n",
       "      <td>3041 3rd ave</td>\n",
       "      <td>20</td>\n",
       "      <td>1</td>\n",
       "      <td>no</td>\n",
       "      <td>0</td>\n",
       "      <td>no</td>\n",
       "      <td>6500</td>\n",
       "      <td>1300</td>\n",
       "      <td>650</td>\n",
       "      <td>4550</td>\n",
       "      <td>accura</td>\n",
       "      <td>rsx</td>\n",
       "      <td>2009</td>\n",
       "    </tr>\n",
       "  </tbody>\n",
       "</table>\n",
       "</div>"
      ],
      "text/plain": [
       "  incident_date             incident_type   collision_type incident_severity  \\\n",
       "0    2015-01-25  single vehicle collision   side collision      major damage   \n",
       "1    2015-01-21             vehicle theft          unknown      minor damage   \n",
       "2    2015-02-22   multi-vehicle collision   rear collision      minor damage   \n",
       "3    2015-01-10  single vehicle collision  front collision      major damage   \n",
       "4    2015-02-17             vehicle theft          unknown      minor damage   \n",
       "\n",
       "  authorities_contacted incident_state incident_city  incident_location  \\\n",
       "0                police             sc      columbus     9935 4th drive   \n",
       "1                police             va     riverwood       6608 mlk hwy   \n",
       "2                police             ny      columbus  7121 francis lane   \n",
       "3                police             oh     arlington   6956 maple drive   \n",
       "4                  none             ny     arlington       3041 3rd ave   \n",
       "\n",
       "   incident_hour_of_the_day  number_of_vehicles_involved property_damage  \\\n",
       "0                         5                            1             yes   \n",
       "1                         8                            1         unknown   \n",
       "2                         7                            3              no   \n",
       "3                         5                            1         unknown   \n",
       "4                        20                            1              no   \n",
       "\n",
       "   bodily_injuries police_report_available  total_claim_amount  injury_claim  \\\n",
       "0                1                     yes               71610          6510   \n",
       "1                0                 unknown                5070           780   \n",
       "2                2                      no               34650          7700   \n",
       "3                1                      no               63400          6340   \n",
       "4                0                      no                6500          1300   \n",
       "\n",
       "   property_claim  vehicle_claim  auto_make auto_model  auto_year  \n",
       "0           13020          52080       saab        92x       2004  \n",
       "1             780           3510   mercedes       e400       2007  \n",
       "2            3850          23100      dodge        ram       2007  \n",
       "3            6340          50720  chevrolet      tahoe       2014  \n",
       "4             650           4550     accura        rsx       2009  "
      ]
     },
     "execution_count": 12,
     "metadata": {},
     "output_type": "execute_result"
    }
   ],
   "source": [
    "df.head()"
   ]
  },
  {
   "cell_type": "markdown",
   "id": "b34df9bf",
   "metadata": {},
   "source": [
    " <a id=\"five\"></a>\n",
    "## 5. Exploratory Data Analysis\n",
    "<a href=#cont>Back to Table of Contents</a>\n",
    "\n",
    "---\n"
   ]
  },
  {
   "cell_type": "markdown",
   "id": "a7715c58",
   "metadata": {},
   "source": [
    "#### Incident Severity"
   ]
  },
  {
   "cell_type": "code",
   "execution_count": 13,
   "id": "73a67db9",
   "metadata": {},
   "outputs": [
    {
     "data": {
      "text/plain": [
       "incident_severity\n",
       "minor damage      354\n",
       "total loss        280\n",
       "major damage      276\n",
       "trivial damage     90\n",
       "Name: count, dtype: int64"
      ]
     },
     "execution_count": 13,
     "metadata": {},
     "output_type": "execute_result"
    }
   ],
   "source": [
    "# Counts of incident severity\n",
    "df['incident_severity'].value_counts()"
   ]
  },
  {
   "cell_type": "code",
   "execution_count": 14,
   "id": "e39b723c",
   "metadata": {},
   "outputs": [
    {
     "data": {
      "image/png": "[encoded data removed]",
      "text/plain": [
       "<Figure size 800x400 with 1 Axes>"
      ]
     },
     "metadata": {},
     "output_type": "display_data"
    }
   ],
   "source": [
    "severity_counts = df['incident_severity'].value_counts().sort_values(ascending=True)\n",
    "\n",
    "plt.figure(figsize=(8,4))\n",
    "severity_counts.plot(kind='barh')\n",
    "plt.title('Count of Incidents by Severity \\n')\n",
    "plt.xlabel('\\n Incident Count')\n",
    "plt.ylabel('Severity \\n')\n",
    "plt.show()"
   ]
  },
  {
   "cell_type": "markdown",
   "id": "4bebbc29",
   "metadata": {},
   "source": [
    "Minor damage accounts for the majority of claims, with trivial damage being the minority."
   ]
  },
  {
   "cell_type": "code",
   "execution_count": 15,
   "id": "c3959e1b",
   "metadata": {},
   "outputs": [],
   "source": [
    "# Create separate DataFrames for each category\n",
    "minor = df[df['incident_severity'] == 'minor damage']\n",
    "trivial = df[df['incident_severity'] == 'trivial damage']\n",
    "major = df[df['incident_severity'] == 'major damage']\n",
    "total_loss = df[df['incident_severity'] == 'total loss']"
   ]
  },
  {
   "cell_type": "markdown",
   "id": "d1490021",
   "metadata": {},
   "source": [
    "#### Datetime Analysis"
   ]
  },
  {
   "cell_type": "code",
   "execution_count": 16,
   "id": "0db1113a",
   "metadata": {},
   "outputs": [],
   "source": [
    "# Day of week\n",
    "# Months\n",
    "# Weeks\n",
    "# Time of day"
   ]
  },
  {
   "cell_type": "code",
   "execution_count": 17,
   "id": "b755cb28",
   "metadata": {},
   "outputs": [
    {
     "data": {
      "image/png": "[encoded data removed]",
      "text/plain": [
       "<Figure size 800x400 with 1 Axes>"
      ]
     },
     "metadata": {},
     "output_type": "display_data"
    }
   ],
   "source": [
    "weekdays = ['Mon','Tue','Wed','Thu','Fri','Sat','Sun']\n",
    "weekday_counts = df['incident_date'].dt.weekday.value_counts().sort_index()\n",
    "\n",
    "plt.figure(figsize=(8,4))\n",
    "weekday_counts.plot()\n",
    "plt.title('Incidents by Day of Week \\n')\n",
    "plt.xlabel('\\n Day of Week')\n",
    "plt.ylabel('Incident Count \\n')\n",
    "plt.xticks(range(0,len(weekdays)),weekdays)\n",
    "plt.show()"
   ]
  },
  {
   "cell_type": "code",
   "execution_count": 18,
   "id": "a72da58e",
   "metadata": {},
   "outputs": [
    {
     "data": {
      "image/png": "[encoded data removed]",
      "text/plain": [
       "<Figure size 800x400 with 1 Axes>"
      ]
     },
     "metadata": {},
     "output_type": "display_data"
    }
   ],
   "source": [
    "week_of_year_counts = df['incident_date'].dt.isocalendar().week.value_counts().sort_index()\n",
    "\n",
    "plt.figure(figsize=(8,4))\n",
    "week_of_year_counts.plot()\n",
    "plt.title('Incidents per Week \\n')\n",
    "plt.xlabel('\\n Week of Year')\n",
    "plt.ylabel('Incident Count \\n')\n",
    "plt.show()"
   ]
  },
  {
   "cell_type": "code",
   "execution_count": 19,
   "id": "c6e24b22",
   "metadata": {},
   "outputs": [
    {
     "data": {
      "image/png": "[encoded data removed]",
      "text/plain": [
       "<Figure size 800x400 with 1 Axes>"
      ]
     },
     "metadata": {},
     "output_type": "display_data"
    }
   ],
   "source": [
    "hour_counts = df['incident_hour_of_the_day'].value_counts().sort_index()\n",
    "\n",
    "plt.figure(figsize=(8,4))\n",
    "hour_counts.plot()\n",
    "plt.title('Incidents by Hour of Day \\n')\n",
    "plt.xlabel('\\n Hour of Day')\n",
    "plt.ylabel('Incident Count \\n')\n",
    "#plt.xticks(range(0,len(weekdays)),weekdays)\n",
    "plt.show()"
   ]
  },
  {
   "cell_type": "markdown",
   "id": "e523fb40",
   "metadata": {},
   "source": [
    " <a id=\"six\"></a>\n",
    "## 6. Feature Engineering\n",
    "<a href=#cont>Back to Table of Contents</a>\n",
    "\n",
    "---\n"
   ]
  },
  {
   "cell_type": "markdown",
   "id": "fe12b894",
   "metadata": {},
   "source": [
    "**Note:** We will start by building and running models with only basic feature engineering - datetime, one hot encoding and label encoding, to allow the models to run. Later we can then add features and see if they improve the model. We drop incident location because they are all unique."
   ]
  },
  {
   "cell_type": "code",
   "execution_count": 20,
   "id": "d0e8c609",
   "metadata": {},
   "outputs": [],
   "source": [
    "df = df.drop(['incident_location'],axis=1)"
   ]
  },
  {
   "cell_type": "markdown",
   "id": "25c065e3",
   "metadata": {},
   "source": [
    "#### Date"
   ]
  },
  {
   "cell_type": "code",
   "execution_count": 21,
   "id": "dd6d6830",
   "metadata": {},
   "outputs": [],
   "source": [
    "def extract_time_features(df):\n",
    "    \n",
    "    '''\n",
    "    Extracts year, month, day and weekday features from the 'incident_date' column.\n",
    "    \n",
    "    Parameters:\n",
    "    -----------\n",
    "    df: DataFrame\n",
    "        A pandas DataFrame containing a column named 'incident_date'\n",
    "    \n",
    "    Returns:\n",
    "    --------\n",
    "    df: DataFrame\n",
    "        A pandas DataFrame with new columns for 'incident_year','incident_month', 'incident_day'\n",
    "        and 'incident_weekday' and the 'incident_date' column dropped.\n",
    "    '''\n",
    "    \n",
    "    # Extract the relevant time features\n",
    "    df['incident_year'] = df['incident_date'].dt.year\n",
    "    df['incident_month'] = df['incident_date'].dt.month\n",
    "    df['incident_week'] = df['incident_date'].dt.isocalendar().week\n",
    "    df['incident_day'] = df['incident_date'].dt.day\n",
    "    df['incident_weekday'] = df['incident_date'].dt.weekday\n",
    "    \n",
    "    # Drop the 'incident_date' feature\n",
    "    df = df.drop('incident_date', axis=1)\n",
    "    \n",
    "    return df\n",
    "\n",
    "df = extract_time_features(df)"
   ]
  },
  {
   "cell_type": "markdown",
   "id": "090bfdb2",
   "metadata": {},
   "source": [
    "#### Vehicle models"
   ]
  },
  {
   "cell_type": "code",
   "execution_count": 22,
   "id": "b09f0488",
   "metadata": {},
   "outputs": [
    {
     "data": {
      "text/plain": [
       "array(['92x', 'e400', 'ram', 'tahoe', 'rsx', 95, 'pathfinder', 'a5',\n",
       "       'camry', 'f150', 'a3', 'highlander', 'neon', 'mdx', 'maxima',\n",
       "       'legacy', 'tl', 'impreza', 'forrestor', 'escape', 'corolla',\n",
       "       '3 series', 'c300', 'wrangler', 'm5', 'x5', 'civic', 'passat',\n",
       "       'silverado', 'crv', 93, 'accord', 'x6', 'malibu', 'fusion',\n",
       "       'jetta', 'ml350', 'ultima', 'grand cherokee'], dtype=object)"
      ]
     },
     "execution_count": 22,
     "metadata": {},
     "output_type": "execute_result"
    }
   ],
   "source": [
    "df['auto_model'].unique()"
   ]
  },
  {
   "cell_type": "markdown",
   "id": "049146df",
   "metadata": {},
   "source": [
    "We can simplify the list of individual vehicle models by categorizing them by vehicle body shape:"
   ]
  },
  {
   "cell_type": "code",
   "execution_count": 23,
   "id": "e446ffef",
   "metadata": {},
   "outputs": [],
   "source": [
    "def auto_shape_indicator(df):\n",
    "    \n",
    "    '''\n",
    "    Assigns an 'auto_shape' value to each row in the DataFrame based on the 'auto_model' value.\n",
    "    \n",
    "    Parameters:\n",
    "    -----------\n",
    "    df: DataFrame\n",
    "        A pandas DataFrame containing a column named 'auto_model'.\n",
    "    \n",
    "    Returns:\n",
    "    --------\n",
    "    Series: A pandas Series containing the assigned 'auto_shape' value.\n",
    "    \n",
    "    Notes:\n",
    "    ------\n",
    "    This function assumes that the input DataFrame contains a column named 'auto_model' with the model\n",
    "    names of the vehicles.\n",
    "    '''\n",
    "    \n",
    "    if df['auto_model'] in ['ram','f150','silverado']:\n",
    "        return 'pickup'\n",
    "    elif df['auto_model'] in ['92x','95','93']:\n",
    "        return 'wagon'\n",
    "    elif df['auto_model'] in ['tahoe','pathfinder','highlander','mdx','forrestor','escape','wrangler',\n",
    "                              'x5','crv','x6','malibu','fusion','ml350','grand cherokee']:\n",
    "        return 'suv'\n",
    "    else:\n",
    "        return 'sedan'\n",
    "\n",
    "#df['auto_shape'] = df.apply(auto_shape_indicator, axis=1)"
   ]
  },
  {
   "cell_type": "markdown",
   "id": "d3d951da",
   "metadata": {},
   "source": [
    "#### Vehicle Age"
   ]
  },
  {
   "cell_type": "code",
   "execution_count": 24,
   "id": "3a3c8287",
   "metadata": {},
   "outputs": [],
   "source": [
    "#df['auto_age'] = df['incident_year'] - df['auto_year']"
   ]
  },
  {
   "cell_type": "markdown",
   "id": "1fef7ba4",
   "metadata": {},
   "source": [
    "#### Incident Location"
   ]
  },
  {
   "cell_type": "code",
   "execution_count": 25,
   "id": "e07f298b",
   "metadata": {},
   "outputs": [],
   "source": [
    "# Urban vs rural\n",
    "# Highway, street, avenue etc"
   ]
  },
  {
   "cell_type": "markdown",
   "id": "e493b6ad",
   "metadata": {},
   "source": [
    "#### Variable Encoding"
   ]
  },
  {
   "cell_type": "code",
   "execution_count": 26,
   "id": "fb052076",
   "metadata": {},
   "outputs": [],
   "source": [
    "# Dummy variable encoding\n",
    "# Label encoder\n",
    "# Ordinal encoding?"
   ]
  },
  {
   "cell_type": "code",
   "execution_count": 27,
   "id": "ace888fb",
   "metadata": {},
   "outputs": [],
   "source": [
    "# Label encoding\n",
    "label_encoder = LabelEncoder()\n",
    "df['incident_severity'] = label_encoder.fit_transform(df['incident_severity'])"
   ]
  },
  {
   "cell_type": "markdown",
   "id": "319ea4d4",
   "metadata": {},
   "source": [
    "LabelEncoder assigns labels to classes in alphabetical order. After transforming the label, the classes are as follows:\n",
    "- `0`: major damage\n",
    "- `1`: minor damage\n",
    "- `2`: total loss\n",
    "- `3`\" trivial damage"
   ]
  },
  {
   "cell_type": "markdown",
   "id": "d6140ee4",
   "metadata": {},
   "source": [
    "for df dummies: incident_type, collision_type, authorities_contacted, incident_state, incident_city, property_damage, police_report_available, auto_make"
   ]
  },
  {
   "cell_type": "code",
   "execution_count": 28,
   "id": "8a196f2b",
   "metadata": {},
   "outputs": [],
   "source": [
    "# Dummy variable encoding\n",
    "df_dummies = pd.get_dummies(df, drop_first=True, dtype=int)"
   ]
  },
  {
   "cell_type": "markdown",
   "id": "71321feb",
   "metadata": {},
   "source": [
    "#### Interaction Terms"
   ]
  },
  {
   "cell_type": "code",
   "execution_count": 29,
   "id": "f7d26040",
   "metadata": {},
   "outputs": [],
   "source": [
    "# Number of vehicles involved * boodiily injuries"
   ]
  },
  {
   "cell_type": "code",
   "execution_count": 30,
   "id": "970bd6bd",
   "metadata": {
    "scrolled": false
   },
   "outputs": [
    {
     "data": {
      "text/html": [
       "<div>\n",
       "<style scoped>\n",
       "    .dataframe tbody tr th:only-of-type {\n",
       "        vertical-align: middle;\n",
       "    }\n",
       "\n",
       "    .dataframe tbody tr th {\n",
       "        vertical-align: top;\n",
       "    }\n",
       "\n",
       "    .dataframe thead th {\n",
       "        text-align: right;\n",
       "    }\n",
       "</style>\n",
       "<table border=\"1\" class=\"dataframe\">\n",
       "  <thead>\n",
       "    <tr style=\"text-align: right;\">\n",
       "      <th></th>\n",
       "      <th>incident_severity</th>\n",
       "      <th>incident_hour_of_the_day</th>\n",
       "      <th>number_of_vehicles_involved</th>\n",
       "      <th>bodily_injuries</th>\n",
       "      <th>total_claim_amount</th>\n",
       "      <th>injury_claim</th>\n",
       "      <th>property_claim</th>\n",
       "      <th>vehicle_claim</th>\n",
       "      <th>auto_year</th>\n",
       "      <th>incident_year</th>\n",
       "      <th>...</th>\n",
       "      <th>auto_model_pathfinder</th>\n",
       "      <th>auto_model_ram</th>\n",
       "      <th>auto_model_rsx</th>\n",
       "      <th>auto_model_silverado</th>\n",
       "      <th>auto_model_tahoe</th>\n",
       "      <th>auto_model_tl</th>\n",
       "      <th>auto_model_ultima</th>\n",
       "      <th>auto_model_wrangler</th>\n",
       "      <th>auto_model_x5</th>\n",
       "      <th>auto_model_x6</th>\n",
       "    </tr>\n",
       "  </thead>\n",
       "  <tbody>\n",
       "    <tr>\n",
       "      <th>0</th>\n",
       "      <td>0</td>\n",
       "      <td>5</td>\n",
       "      <td>1</td>\n",
       "      <td>1</td>\n",
       "      <td>71610</td>\n",
       "      <td>6510</td>\n",
       "      <td>13020</td>\n",
       "      <td>52080</td>\n",
       "      <td>2004</td>\n",
       "      <td>2015</td>\n",
       "      <td>...</td>\n",
       "      <td>0</td>\n",
       "      <td>0</td>\n",
       "      <td>0</td>\n",
       "      <td>0</td>\n",
       "      <td>0</td>\n",
       "      <td>0</td>\n",
       "      <td>0</td>\n",
       "      <td>0</td>\n",
       "      <td>0</td>\n",
       "      <td>0</td>\n",
       "    </tr>\n",
       "    <tr>\n",
       "      <th>1</th>\n",
       "      <td>1</td>\n",
       "      <td>8</td>\n",
       "      <td>1</td>\n",
       "      <td>0</td>\n",
       "      <td>5070</td>\n",
       "      <td>780</td>\n",
       "      <td>780</td>\n",
       "      <td>3510</td>\n",
       "      <td>2007</td>\n",
       "      <td>2015</td>\n",
       "      <td>...</td>\n",
       "      <td>0</td>\n",
       "      <td>0</td>\n",
       "      <td>0</td>\n",
       "      <td>0</td>\n",
       "      <td>0</td>\n",
       "      <td>0</td>\n",
       "      <td>0</td>\n",
       "      <td>0</td>\n",
       "      <td>0</td>\n",
       "      <td>0</td>\n",
       "    </tr>\n",
       "    <tr>\n",
       "      <th>2</th>\n",
       "      <td>1</td>\n",
       "      <td>7</td>\n",
       "      <td>3</td>\n",
       "      <td>2</td>\n",
       "      <td>34650</td>\n",
       "      <td>7700</td>\n",
       "      <td>3850</td>\n",
       "      <td>23100</td>\n",
       "      <td>2007</td>\n",
       "      <td>2015</td>\n",
       "      <td>...</td>\n",
       "      <td>0</td>\n",
       "      <td>1</td>\n",
       "      <td>0</td>\n",
       "      <td>0</td>\n",
       "      <td>0</td>\n",
       "      <td>0</td>\n",
       "      <td>0</td>\n",
       "      <td>0</td>\n",
       "      <td>0</td>\n",
       "      <td>0</td>\n",
       "    </tr>\n",
       "    <tr>\n",
       "      <th>3</th>\n",
       "      <td>0</td>\n",
       "      <td>5</td>\n",
       "      <td>1</td>\n",
       "      <td>1</td>\n",
       "      <td>63400</td>\n",
       "      <td>6340</td>\n",
       "      <td>6340</td>\n",
       "      <td>50720</td>\n",
       "      <td>2014</td>\n",
       "      <td>2015</td>\n",
       "      <td>...</td>\n",
       "      <td>0</td>\n",
       "      <td>0</td>\n",
       "      <td>0</td>\n",
       "      <td>0</td>\n",
       "      <td>1</td>\n",
       "      <td>0</td>\n",
       "      <td>0</td>\n",
       "      <td>0</td>\n",
       "      <td>0</td>\n",
       "      <td>0</td>\n",
       "    </tr>\n",
       "    <tr>\n",
       "      <th>4</th>\n",
       "      <td>1</td>\n",
       "      <td>20</td>\n",
       "      <td>1</td>\n",
       "      <td>0</td>\n",
       "      <td>6500</td>\n",
       "      <td>1300</td>\n",
       "      <td>650</td>\n",
       "      <td>4550</td>\n",
       "      <td>2009</td>\n",
       "      <td>2015</td>\n",
       "      <td>...</td>\n",
       "      <td>0</td>\n",
       "      <td>0</td>\n",
       "      <td>1</td>\n",
       "      <td>0</td>\n",
       "      <td>0</td>\n",
       "      <td>0</td>\n",
       "      <td>0</td>\n",
       "      <td>0</td>\n",
       "      <td>0</td>\n",
       "      <td>0</td>\n",
       "    </tr>\n",
       "  </tbody>\n",
       "</table>\n",
       "<p>5 rows × 93 columns</p>\n",
       "</div>"
      ],
      "text/plain": [
       "   incident_severity  incident_hour_of_the_day  number_of_vehicles_involved  \\\n",
       "0                  0                         5                            1   \n",
       "1                  1                         8                            1   \n",
       "2                  1                         7                            3   \n",
       "3                  0                         5                            1   \n",
       "4                  1                        20                            1   \n",
       "\n",
       "   bodily_injuries  total_claim_amount  injury_claim  property_claim  \\\n",
       "0                1               71610          6510           13020   \n",
       "1                0                5070           780             780   \n",
       "2                2               34650          7700            3850   \n",
       "3                1               63400          6340            6340   \n",
       "4                0                6500          1300             650   \n",
       "\n",
       "   vehicle_claim  auto_year  incident_year  ...  auto_model_pathfinder  \\\n",
       "0          52080       2004           2015  ...                      0   \n",
       "1           3510       2007           2015  ...                      0   \n",
       "2          23100       2007           2015  ...                      0   \n",
       "3          50720       2014           2015  ...                      0   \n",
       "4           4550       2009           2015  ...                      0   \n",
       "\n",
       "   auto_model_ram  auto_model_rsx  auto_model_silverado  auto_model_tahoe  \\\n",
       "0               0               0                     0                 0   \n",
       "1               0               0                     0                 0   \n",
       "2               1               0                     0                 0   \n",
       "3               0               0                     0                 1   \n",
       "4               0               1                     0                 0   \n",
       "\n",
       "   auto_model_tl  auto_model_ultima  auto_model_wrangler  auto_model_x5  \\\n",
       "0              0                  0                    0              0   \n",
       "1              0                  0                    0              0   \n",
       "2              0                  0                    0              0   \n",
       "3              0                  0                    0              0   \n",
       "4              0                  0                    0              0   \n",
       "\n",
       "   auto_model_x6  \n",
       "0              0  \n",
       "1              0  \n",
       "2              0  \n",
       "3              0  \n",
       "4              0  \n",
       "\n",
       "[5 rows x 93 columns]"
      ]
     },
     "execution_count": 30,
     "metadata": {},
     "output_type": "execute_result"
    }
   ],
   "source": [
    "df_dummies.head()"
   ]
  },
  {
   "cell_type": "markdown",
   "id": "cab297f2",
   "metadata": {},
   "source": [
    " <a id=\"seven\"></a>\n",
    "## 7. Splitting the Data\n",
    "<a href=#cont>Back to Table of Contents</a>\n",
    "\n",
    "---\n"
   ]
  },
  {
   "cell_type": "code",
   "execution_count": 31,
   "id": "1c14ab97",
   "metadata": {},
   "outputs": [],
   "source": [
    "X = df_dummies.drop('incident_severity', axis=1)\n",
    "y = df_dummies['incident_severity']"
   ]
  },
  {
   "cell_type": "code",
   "execution_count": 32,
   "id": "4582ec53",
   "metadata": {},
   "outputs": [],
   "source": [
    "X_train, X_test, y_train, y_test = train_test_split(X, y, test_size=0.2, random_state=42)"
   ]
  },
  {
   "cell_type": "markdown",
   "id": "b84bb19b",
   "metadata": {},
   "source": [
    " <a id=\"eight\"></a>\n",
    "## 8. Balancing Classes\n",
    "<a href=#cont>Back to Table of Contents</a>\n",
    "\n",
    "---\n"
   ]
  },
  {
   "cell_type": "code",
   "execution_count": null,
   "id": "6ca68269",
   "metadata": {},
   "outputs": [],
   "source": []
  },
  {
   "cell_type": "markdown",
   "id": "ec2198fc",
   "metadata": {},
   "source": [
    " <a id=\"nine\"></a>\n",
    "## 9. Model Building\n",
    "<a href=#cont>Back to Table of Contents</a>\n",
    "\n",
    "---\n"
   ]
  },
  {
   "cell_type": "code",
   "execution_count": 36,
   "id": "d259d101",
   "metadata": {},
   "outputs": [],
   "source": [
    "def base_model(X_train, y_train, X_test, model):\n",
    "    \n",
    "    '''\n",
    "    Docstring\n",
    "    '''\n",
    "    \n",
    "    model.fit(X_train, y_train)\n",
    "    predictions = model.predict(X_test)\n",
    "    \n",
    "    return predictions"
   ]
  },
  {
   "cell_type": "code",
   "execution_count": 41,
   "id": "baa25b10",
   "metadata": {},
   "outputs": [],
   "source": [
    "def evaluate_model(actual, predicted):\n",
    "    \n",
    "    '''\n",
    "    Docstring\n",
    "    '''\n",
    "    \n",
    "    print('Classification Report \\n')\n",
    "    print(classification_report(actual, predicted))\n",
    "    print('\\n')\n",
    "    print('Confusion Matrix')\n",
    "    \n",
    "    cm = confusion_matrix(actual, predicted)\n",
    "    disp = ConfusionMatrixDisplay(cm, display_labels=['major','minor','total loss','trivial'])\n",
    "    disp.plot(cmap='Blues')"
   ]
  },
  {
   "cell_type": "markdown",
   "id": "adb7714c",
   "metadata": {},
   "source": [
    "### Logistic Regression"
   ]
  },
  {
   "cell_type": "code",
   "execution_count": 42,
   "id": "02ff1944",
   "metadata": {},
   "outputs": [
    {
     "name": "stdout",
     "output_type": "stream",
     "text": [
      "Classification Report \n",
      "\n",
      "              precision    recall  f1-score   support\n",
      "\n",
      "           0       0.37      0.21      0.27        61\n",
      "           1       0.38      0.51      0.44        74\n",
      "           2       0.19      0.18      0.19        44\n",
      "           3       0.58      0.67      0.62        21\n",
      "\n",
      "    accuracy                           0.36       200\n",
      "   macro avg       0.38      0.39      0.38       200\n",
      "weighted avg       0.36      0.36      0.35       200\n",
      "\n",
      "\n",
      "\n",
      "Confusion Matrix\n"
     ]
    },
    {
     "data": {
      "image/png": "[encoded data removed]",
      "text/plain": [
       "<Figure size 640x480 with 2 Axes>"
      ]
     },
     "metadata": {},
     "output_type": "display_data"
    }
   ],
   "source": [
    "# Instantiate the base model\n",
    "lm = LogisticRegression()\n",
    "\n",
    "# Generate predictions\n",
    "y_pred_lm = base_model(X_train, y_train, X_test, lm)\n",
    "\n",
    "# Evaluate the model performance\n",
    "evaluate_model(y_test, y_pred_lm)"
   ]
  },
  {
   "cell_type": "markdown",
   "id": "8e1e54c9",
   "metadata": {},
   "source": [
    "### Decision Tree"
   ]
  },
  {
   "cell_type": "code",
   "execution_count": 43,
   "id": "04fb2115",
   "metadata": {},
   "outputs": [
    {
     "name": "stdout",
     "output_type": "stream",
     "text": [
      "Classification Report \n",
      "\n",
      "              precision    recall  f1-score   support\n",
      "\n",
      "           0       0.29      0.20      0.24        61\n",
      "           1       0.29      0.30      0.29        74\n",
      "           2       0.25      0.34      0.29        44\n",
      "           3       0.50      0.57      0.53        21\n",
      "\n",
      "    accuracy                           0.30       200\n",
      "   macro avg       0.33      0.35      0.34       200\n",
      "weighted avg       0.30      0.30      0.30       200\n",
      "\n",
      "\n",
      "\n",
      "Confusion Matrix\n"
     ]
    },
    {
     "data": {
      "image/png": "[encoded data removed]",
      "text/plain": [
       "<Figure size 640x480 with 2 Axes>"
      ]
     },
     "metadata": {},
     "output_type": "display_data"
    }
   ],
   "source": [
    "# Instantiate the base model\n",
    "dt = DecisionTreeClassifier()\n",
    "\n",
    "# Generate predictions\n",
    "y_pred_dt = base_model(X_train, y_train, X_test, dt)\n",
    "\n",
    "# Evaluate the model performance\n",
    "evaluate_model(y_test, y_pred_dt)"
   ]
  },
  {
   "cell_type": "markdown",
   "id": "22567067",
   "metadata": {},
   "source": [
    "### Support Vector Machine"
   ]
  },
  {
   "cell_type": "markdown",
   "id": "bf8652de",
   "metadata": {},
   "source": [
    "#### SVC"
   ]
  },
  {
   "cell_type": "code",
   "execution_count": 44,
   "id": "5d3fcbaa",
   "metadata": {},
   "outputs": [
    {
     "name": "stdout",
     "output_type": "stream",
     "text": [
      "Classification Report \n",
      "\n",
      "              precision    recall  f1-score   support\n",
      "\n",
      "           0       0.14      0.02      0.03        61\n",
      "           1       0.42      0.22      0.29        74\n",
      "           2       0.27      0.95      0.42        44\n",
      "           3       0.00      0.00      0.00        21\n",
      "\n",
      "    accuracy                           0.29       200\n",
      "   macro avg       0.21      0.30      0.18       200\n",
      "weighted avg       0.26      0.29      0.21       200\n",
      "\n",
      "\n",
      "\n",
      "Confusion Matrix\n"
     ]
    },
    {
     "data": {
      "image/png": "[encoded data removed]",
      "text/plain": [
       "<Figure size 640x480 with 2 Axes>"
      ]
     },
     "metadata": {},
     "output_type": "display_data"
    }
   ],
   "source": [
    "# Instantiate the base model\n",
    "svc = SVC()\n",
    "\n",
    "# Generate predictions\n",
    "y_pred_svc = base_model(X_train, y_train, X_test, svc)\n",
    "\n",
    "# Evaluate the model performance\n",
    "evaluate_model(y_test, y_pred_svc)"
   ]
  },
  {
   "cell_type": "markdown",
   "id": "6c72b182",
   "metadata": {},
   "source": [
    "#### Linear SVC"
   ]
  },
  {
   "cell_type": "code",
   "execution_count": 45,
   "id": "dc51c13b",
   "metadata": {},
   "outputs": [
    {
     "name": "stdout",
     "output_type": "stream",
     "text": [
      "Classification Report \n",
      "\n",
      "              precision    recall  f1-score   support\n",
      "\n",
      "           0       0.00      0.00      0.00        61\n",
      "           1       0.43      0.04      0.07        74\n",
      "           2       0.00      0.00      0.00        44\n",
      "           3       0.11      1.00      0.20        21\n",
      "\n",
      "    accuracy                           0.12       200\n",
      "   macro avg       0.13      0.26      0.07       200\n",
      "weighted avg       0.17      0.12      0.05       200\n",
      "\n",
      "\n",
      "\n",
      "Confusion Matrix\n"
     ]
    },
    {
     "data": {
      "image/png": "[encoded data removed]",
      "text/plain": [
       "<Figure size 640x480 with 2 Axes>"
      ]
     },
     "metadata": {},
     "output_type": "display_data"
    }
   ],
   "source": [
    "# Instantiate the base model\n",
    "linsvc = LinearSVC()\n",
    "\n",
    "# Generate predictions\n",
    "y_pred_linsvc = base_model(X_train, y_train, X_test, linsvc)\n",
    "\n",
    "# Evaluate the model performance\n",
    "evaluate_model(y_test, y_pred_linsvc)"
   ]
  },
  {
   "cell_type": "markdown",
   "id": "3c93d8d2",
   "metadata": {},
   "source": [
    "### K-Nearest Neighbours"
   ]
  },
  {
   "cell_type": "code",
   "execution_count": 46,
   "id": "2c59c452",
   "metadata": {},
   "outputs": [
    {
     "name": "stdout",
     "output_type": "stream",
     "text": [
      "Classification Report \n",
      "\n",
      "              precision    recall  f1-score   support\n",
      "\n",
      "           0       0.48      0.52      0.50        61\n",
      "           1       0.38      0.39      0.39        74\n",
      "           2       0.23      0.20      0.22        44\n",
      "           3       0.58      0.52      0.55        21\n",
      "\n",
      "    accuracy                           0.41       200\n",
      "   macro avg       0.42      0.41      0.41       200\n",
      "weighted avg       0.40      0.41      0.40       200\n",
      "\n",
      "\n",
      "\n",
      "Confusion Matrix\n"
     ]
    },
    {
     "data": {
      "image/png": "[encoded data removed]",
      "text/plain": [
       "<Figure size 640x480 with 2 Axes>"
      ]
     },
     "metadata": {},
     "output_type": "display_data"
    }
   ],
   "source": [
    "# Instantiate the base model\n",
    "knn = KNeighborsClassifier()\n",
    "\n",
    "# Generate predictions\n",
    "y_pred_knn = base_model(X_train, y_train, X_test, knn)\n",
    "\n",
    "# Evaluate the model performance\n",
    "evaluate_model(y_test, y_pred_knn)"
   ]
  },
  {
   "cell_type": "markdown",
   "id": "3425dc51",
   "metadata": {},
   "source": [
    "### Ensemble Methods"
   ]
  },
  {
   "cell_type": "markdown",
   "id": "6a7fd6d7",
   "metadata": {},
   "source": [
    "#### Random Forest"
   ]
  },
  {
   "cell_type": "code",
   "execution_count": 48,
   "id": "2ca8ad16",
   "metadata": {},
   "outputs": [
    {
     "name": "stdout",
     "output_type": "stream",
     "text": [
      "Classification Report \n",
      "\n",
      "              precision    recall  f1-score   support\n",
      "\n",
      "           0       0.35      0.34      0.35        61\n",
      "           1       0.36      0.26      0.30        74\n",
      "           2       0.23      0.36      0.28        44\n",
      "           3       0.53      0.43      0.47        21\n",
      "\n",
      "    accuracy                           0.33       200\n",
      "   macro avg       0.37      0.35      0.35       200\n",
      "weighted avg       0.35      0.33      0.33       200\n",
      "\n",
      "\n",
      "\n",
      "Confusion Matrix\n"
     ]
    },
    {
     "data": {
      "image/png": "[encoded data removed]",
      "text/plain": [
       "<Figure size 640x480 with 2 Axes>"
      ]
     },
     "metadata": {},
     "output_type": "display_data"
    }
   ],
   "source": [
    "# Instantiate the base model\n",
    "rf = RandomForestClassifier()\n",
    "\n",
    "# Generate predictions\n",
    "y_pred_rf = base_model(X_train, y_train, X_test, rf)\n",
    "\n",
    "# Evaluate the model performance\n",
    "evaluate_model(y_test, y_pred_rf)"
   ]
  },
  {
   "cell_type": "markdown",
   "id": "36d3c24b",
   "metadata": {},
   "source": [
    "#### XGBoost"
   ]
  },
  {
   "cell_type": "code",
   "execution_count": 49,
   "id": "b2623453",
   "metadata": {},
   "outputs": [
    {
     "name": "stdout",
     "output_type": "stream",
     "text": [
      "Classification Report \n",
      "\n",
      "              precision    recall  f1-score   support\n",
      "\n",
      "           0       0.38      0.38      0.38        61\n",
      "           1       0.39      0.32      0.35        74\n",
      "           2       0.17      0.23      0.19        44\n",
      "           3       0.67      0.57      0.62        21\n",
      "\n",
      "    accuracy                           0.34       200\n",
      "   macro avg       0.40      0.38      0.39       200\n",
      "weighted avg       0.37      0.34      0.35       200\n",
      "\n",
      "\n",
      "\n",
      "Confusion Matrix\n"
     ]
    },
    {
     "data": {
      "image/png": "[encoded data removed]",
      "text/plain": [
       "<Figure size 640x480 with 2 Axes>"
      ]
     },
     "metadata": {},
     "output_type": "display_data"
    }
   ],
   "source": [
    "# Instantiate the base model\n",
    "xgb = XGBClassifier()\n",
    "\n",
    "# Generate predictions\n",
    "y_pred_xgb = base_model(X_train, y_train, X_test, xgb)\n",
    "\n",
    "# Evaluate the model performance\n",
    "evaluate_model(y_test, y_pred_xgb)"
   ]
  }
 ],
 "metadata": {
  "kernelspec": {
   "display_name": "Python 3 (ipykernel)",
   "language": "python",
   "name": "python3"
  },
  "language_info": {
   "codemirror_mode": {
    "name": "ipython",
    "version": 3
   },
   "file_extension": ".py",
   "mimetype": "text/x-python",
   "name": "python",
   "nbconvert_exporter": "python",
   "pygments_lexer": "ipython3",
   "version": "3.11.7"
  }
 },
 "nbformat": 4,
 "nbformat_minor": 5
}
