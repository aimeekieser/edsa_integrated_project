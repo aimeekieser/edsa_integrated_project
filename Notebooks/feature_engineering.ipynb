{
 "cells": [
  {
   "cell_type": "markdown",
   "id": "07c93e33",
   "metadata": {},
   "source": [
    "# Feature Engineering"
   ]
  },
  {
   "cell_type": "code",
   "execution_count": null,
   "id": "0acf9546",
   "metadata": {},
   "outputs": [],
   "source": [
    "# Feature engineering:\n",
    "    # Months as customer --> years as customer\n",
    "    # Time difference between claim date and policy start date\n",
    "    # Break policy csl into 2 features: injury claim per individual and injury claim per accident split by '/'\n",
    "    # Maybe vehicle body type? If I'm predicting accident severity or claim amount..."
   ]
  },
  {
   "cell_type": "code",
   "execution_count": null,
   "id": "919e2bf4",
   "metadata": {},
   "outputs": [],
   "source": []
  },
  {
   "cell_type": "code",
   "execution_count": null,
   "id": "9cdd845d",
   "metadata": {},
   "outputs": [],
   "source": []
  }
 ],
 "metadata": {
  "kernelspec": {
   "display_name": "Python 3 (ipykernel)",
   "language": "python",
   "name": "python3"
  },
  "language_info": {
   "codemirror_mode": {
    "name": "ipython",
    "version": 3
   },
   "file_extension": ".py",
   "mimetype": "text/x-python",
   "name": "python",
   "nbconvert_exporter": "python",
   "pygments_lexer": "ipython3",
   "version": "3.11.7"
  }
 },
 "nbformat": 4,
 "nbformat_minor": 5
}
